{
 "cells": [
  {
   "cell_type": "markdown",
   "metadata": {},
   "source": [
    "# ANALYZING AND PREDICTING FACEBOOK ENGAGEMENT"
   ]
  },
  {
   "cell_type": "markdown",
   "metadata": {},
   "source": [
    "The facebook posts insights data is given to predict the facebook post perfomance"
   ]
  },
  {
   "cell_type": "markdown",
   "metadata": {},
   "source": [
    "## Structure of the project"
   ]
  },
  {
   "cell_type": "markdown",
   "metadata": {},
   "source": [
    "    1)Data Preparation\n",
    "    2)Exploratory Data Analysis\n",
    "    3)Prediction Models\n",
    "       1. Linear regression\n",
    "       2. Random forest regression\n",
    "       3. Ridge regression\n",
    "    4) Topic Modelling\n",
    "    5) Topics classification"
   ]
  },
  {
   "cell_type": "markdown",
   "metadata": {},
   "source": [
    "## Data Preparation"
   ]
  },
  {
   "cell_type": "markdown",
   "metadata": {},
   "source": [
    "###### Importing packages"
   ]
  },
  {
   "cell_type": "code",
   "execution_count": null,
   "metadata": {},
   "outputs": [],
   "source": [
    "import pandas as pd\n",
    "import numpy as np\n",
    "import json \n",
    "import os \n",
    "import re\n",
    "import matplotlib.pyplot as plt"
   ]
  },
  {
   "cell_type": "code",
   "execution_count": 2,
   "metadata": {},
   "outputs": [],
   "source": [
    "os.chdir(r\"C:\\Users\\puja9\\Desktop\\Ascent\")\n"
   ]
  },
  {
   "cell_type": "code",
   "execution_count": 148,
   "metadata": {},
   "outputs": [
    {
     "data": {
      "text/html": [
       "<div>\n",
       "<style scoped>\n",
       "    .dataframe tbody tr th:only-of-type {\n",
       "        vertical-align: middle;\n",
       "    }\n",
       "\n",
       "    .dataframe tbody tr th {\n",
       "        vertical-align: top;\n",
       "    }\n",
       "\n",
       "    .dataframe thead th {\n",
       "        text-align: right;\n",
       "    }\n",
       "</style>\n",
       "<table border=\"1\" class=\"dataframe\">\n",
       "  <thead>\n",
       "    <tr style=\"text-align: right;\">\n",
       "      <th></th>\n",
       "      <th>caption</th>\n",
       "      <th>created_time</th>\n",
       "      <th>description</th>\n",
       "      <th>feed_targeting</th>\n",
       "      <th>id</th>\n",
       "      <th>insights</th>\n",
       "      <th>link</th>\n",
       "      <th>link_to_post</th>\n",
       "      <th>message</th>\n",
       "      <th>name</th>\n",
       "      <th>picture</th>\n",
       "      <th>story</th>\n",
       "    </tr>\n",
       "  </thead>\n",
       "  <tbody>\n",
       "    <tr>\n",
       "      <th>0</th>\n",
       "      <td>komonews.com</td>\n",
       "      <td>2015-09-17 20:50:00</td>\n",
       "      <td>About 20 western Virginia high school students...</td>\n",
       "      <td>NaN</td>\n",
       "      <td>114431401958534_940695755998757</td>\n",
       "      <td>{'post_impressions': {'name': 'post_impression...</td>\n",
       "      <td>http://www.komonews.com/news/national/Students...</td>\n",
       "      <td>http://facebook.com/114431401958534_9406957559...</td>\n",
       "      <td>Do you think the Confederate flag should be ba...</td>\n",
       "      <td>Students suspended for clothing displaying Con...</td>\n",
       "      <td>https://external.xx.fbcdn.net/safe_image.php?d...</td>\n",
       "      <td>NaN</td>\n",
       "    </tr>\n",
       "    <tr>\n",
       "      <th>1</th>\n",
       "      <td>NaN</td>\n",
       "      <td>2015-09-17 20:20:01</td>\n",
       "      <td>NaN</td>\n",
       "      <td>NaN</td>\n",
       "      <td>114431401958534_940684872666512</td>\n",
       "      <td>{'post_impressions_fan_paid': {'name': 'post_i...</td>\n",
       "      <td>https://www.facebook.com/KOMONews/photos/a.121...</td>\n",
       "      <td>http://facebook.com/114431401958534_9406848726...</td>\n",
       "      <td>Seattle Seahawks' Russell Wilson answered lots...</td>\n",
       "      <td>Timeline Photos</td>\n",
       "      <td>https://fbcdn-photos-b-a.akamaihd.net/hphotos-...</td>\n",
       "      <td>NaN</td>\n",
       "    </tr>\n",
       "    <tr>\n",
       "      <th>2</th>\n",
       "      <td>komonews.com</td>\n",
       "      <td>2015-09-17 19:49:28</td>\n",
       "      <td>Despite September looking like it will break o...</td>\n",
       "      <td>NaN</td>\n",
       "      <td>114431401958534_940684229333243</td>\n",
       "      <td>{'post_impressions': {'name': 'post_impression...</td>\n",
       "      <td>http://www.komonews.com/weather/blogs/scott/Ne...</td>\n",
       "      <td>http://facebook.com/114431401958534_9406842293...</td>\n",
       "      <td>It'll be a bummer for snow lovers, but warm-we...</td>\n",
       "      <td>New forecasts still say mild winter, hot summe...</td>\n",
       "      <td>https://external.xx.fbcdn.net/safe_image.php?d...</td>\n",
       "      <td>NaN</td>\n",
       "    </tr>\n",
       "    <tr>\n",
       "      <th>3</th>\n",
       "      <td>komonews.com</td>\n",
       "      <td>2015-09-17 19:18:00</td>\n",
       "      <td>Amazon is dangling a $50 tablet computer in it...</td>\n",
       "      <td>NaN</td>\n",
       "      <td>114431401958534_940637569337909</td>\n",
       "      <td>{'post_impressions': {'name': 'post_impression...</td>\n",
       "      <td>http://www.komonews.com/news/tech/Amazon-dangl...</td>\n",
       "      <td>http://facebook.com/114431401958534_9406375693...</td>\n",
       "      <td>What do you think of Amazon's cheaper tablet?</td>\n",
       "      <td>Amazon dangles $50 tablet computer to hook mor...</td>\n",
       "      <td>https://fbexternal-a.akamaihd.net/safe_image.p...</td>\n",
       "      <td>NaN</td>\n",
       "    </tr>\n",
       "    <tr>\n",
       "      <th>4</th>\n",
       "      <td>komonews.com</td>\n",
       "      <td>2015-09-17 18:45:00</td>\n",
       "      <td>Earth's record-breaking heat is sounding an aw...</td>\n",
       "      <td>NaN</td>\n",
       "      <td>114431401958534_940535546014778</td>\n",
       "      <td>{'post_impressions': {'name': 'post_impression...</td>\n",
       "      <td>http://www.komonews.com/news/national/Earths-r...</td>\n",
       "      <td>http://facebook.com/114431401958534_9405355460...</td>\n",
       "      <td>Meteorologists say 2015 is a near certainty to...</td>\n",
       "      <td>Earth's record streak of record heat keeps on ...</td>\n",
       "      <td>https://external.xx.fbcdn.net/safe_image.php?d...</td>\n",
       "      <td>NaN</td>\n",
       "    </tr>\n",
       "  </tbody>\n",
       "</table>\n",
       "</div>"
      ],
      "text/plain": [
       "        caption        created_time  \\\n",
       "0  komonews.com 2015-09-17 20:50:00   \n",
       "1           NaN 2015-09-17 20:20:01   \n",
       "2  komonews.com 2015-09-17 19:49:28   \n",
       "3  komonews.com 2015-09-17 19:18:00   \n",
       "4  komonews.com 2015-09-17 18:45:00   \n",
       "\n",
       "                                         description feed_targeting  \\\n",
       "0  About 20 western Virginia high school students...            NaN   \n",
       "1                                                NaN            NaN   \n",
       "2  Despite September looking like it will break o...            NaN   \n",
       "3  Amazon is dangling a $50 tablet computer in it...            NaN   \n",
       "4  Earth's record-breaking heat is sounding an aw...            NaN   \n",
       "\n",
       "                                id  \\\n",
       "0  114431401958534_940695755998757   \n",
       "1  114431401958534_940684872666512   \n",
       "2  114431401958534_940684229333243   \n",
       "3  114431401958534_940637569337909   \n",
       "4  114431401958534_940535546014778   \n",
       "\n",
       "                                            insights  \\\n",
       "0  {'post_impressions': {'name': 'post_impression...   \n",
       "1  {'post_impressions_fan_paid': {'name': 'post_i...   \n",
       "2  {'post_impressions': {'name': 'post_impression...   \n",
       "3  {'post_impressions': {'name': 'post_impression...   \n",
       "4  {'post_impressions': {'name': 'post_impression...   \n",
       "\n",
       "                                                link  \\\n",
       "0  http://www.komonews.com/news/national/Students...   \n",
       "1  https://www.facebook.com/KOMONews/photos/a.121...   \n",
       "2  http://www.komonews.com/weather/blogs/scott/Ne...   \n",
       "3  http://www.komonews.com/news/tech/Amazon-dangl...   \n",
       "4  http://www.komonews.com/news/national/Earths-r...   \n",
       "\n",
       "                                        link_to_post  \\\n",
       "0  http://facebook.com/114431401958534_9406957559...   \n",
       "1  http://facebook.com/114431401958534_9406848726...   \n",
       "2  http://facebook.com/114431401958534_9406842293...   \n",
       "3  http://facebook.com/114431401958534_9406375693...   \n",
       "4  http://facebook.com/114431401958534_9405355460...   \n",
       "\n",
       "                                             message  \\\n",
       "0  Do you think the Confederate flag should be ba...   \n",
       "1  Seattle Seahawks' Russell Wilson answered lots...   \n",
       "2  It'll be a bummer for snow lovers, but warm-we...   \n",
       "3      What do you think of Amazon's cheaper tablet?   \n",
       "4  Meteorologists say 2015 is a near certainty to...   \n",
       "\n",
       "                                                name  \\\n",
       "0  Students suspended for clothing displaying Con...   \n",
       "1                                    Timeline Photos   \n",
       "2  New forecasts still say mild winter, hot summe...   \n",
       "3  Amazon dangles $50 tablet computer to hook mor...   \n",
       "4  Earth's record streak of record heat keeps on ...   \n",
       "\n",
       "                                             picture story  \n",
       "0  https://external.xx.fbcdn.net/safe_image.php?d...   NaN  \n",
       "1  https://fbcdn-photos-b-a.akamaihd.net/hphotos-...   NaN  \n",
       "2  https://external.xx.fbcdn.net/safe_image.php?d...   NaN  \n",
       "3  https://fbexternal-a.akamaihd.net/safe_image.p...   NaN  \n",
       "4  https://external.xx.fbcdn.net/safe_image.php?d...   NaN  "
      ]
     },
     "execution_count": 148,
     "metadata": {},
     "output_type": "execute_result"
    }
   ],
   "source": [
    "data = pd.read_json(r\"posts.json\",lines = True)\n",
    "data.head()"
   ]
  },
  {
   "cell_type": "code",
   "execution_count": 149,
   "metadata": {},
   "outputs": [],
   "source": [
    "komo = ['komonews.com','www.komonews.com','abcnews.go.com','youtube.com','www.youtube.com','rumble.com','sbg.komonews.com','cnn.com','www.cnn.com']"
   ]
  },
  {
   "cell_type": "code",
   "execution_count": 150,
   "metadata": {},
   "outputs": [
    {
     "data": {
      "text/plain": [
       "'https://fbcdn-photos-b-a.akamaihd.net/hphotos-ak-xpf1/v/t1.0-0/s130x130/12004093_940684872666512_5624798814013094912_n.jpg?oh=5b6d7e5f8b47b6a2adc2862de66212e2&oe=5699F9C2&__gda__=1453745791_ebccf121de2e3e33f6bd907454e7c7d3'"
      ]
     },
     "execution_count": 150,
     "metadata": {},
     "output_type": "execute_result"
    }
   ],
   "source": [
    "data.picture[1]"
   ]
  },
  {
   "cell_type": "code",
   "execution_count": 151,
   "metadata": {},
   "outputs": [],
   "source": [
    "data_komo = data[data.caption.isin(komo)]\n",
    "data_komo = data_komo.reset_index()\n",
    "data_komo = data_komo.replace(np.nan, '', regex=True)"
   ]
  },
  {
   "cell_type": "code",
   "execution_count": 152,
   "metadata": {},
   "outputs": [
    {
     "data": {
      "text/plain": [
       "5266"
      ]
     },
     "execution_count": 152,
     "metadata": {},
     "output_type": "execute_result"
    }
   ],
   "source": [
    "len(data_komo)"
   ]
  },
  {
   "cell_type": "markdown",
   "metadata": {},
   "source": [
    "###### Getting the tags from the link"
   ]
  },
  {
   "cell_type": "code",
   "execution_count": 243,
   "metadata": {},
   "outputs": [],
   "source": [
    "def get_tag(x):\n",
    "    if 'komonews' in x:\n",
    "        x = re.sub('http://www.komonews.com/[A-Za-z0-9]+/','',x)\n",
    "        x = x.split('/')\n",
    "        return x[0] "
   ]
  },
  {
   "cell_type": "code",
   "execution_count": 153,
   "metadata": {},
   "outputs": [],
   "source": [
    "data_komo['Descript'] = data_komo['description']+data_komo['message']+data_komo['name']"
   ]
  },
  {
   "cell_type": "code",
   "execution_count": 15,
   "metadata": {},
   "outputs": [],
   "source": [
    "for i in data_komo['insights']:\n",
    "    if len(i)!=58 :\n",
    "        print(length(i))\n",
    "tag = []\n",
    "vaa = []\n",
    "for i in data_komo['insights'][0].keys():\n",
    "    tag.append(i)\n",
    "    vaa.append(data_komo['insights'][0][i]['description'])\n",
    "    \n",
    "description = pd.DataFrame()\n",
    "description['tag'] = tag\n",
    "description['desc'] = vaa\n",
    "description.head()\n",
    "description.to_csv(r\"insights_description.csv\")"
   ]
  },
  {
   "cell_type": "code",
   "execution_count": 47,
   "metadata": {},
   "outputs": [],
   "source": [
    "newdata_ = pd.DataFrame()\n",
    "new_list =[]\n",
    "for j in range(len(data_komo['insights'])):\n",
    "   \n",
    "    x ={}\n",
    "    for i in data_komo['insights'][j].keys():\n",
    "        value = data_komo['insights'][j][i]['values'][0]['value']\n",
    "        x[i] = value\n",
    "        x['id'] = data_komo['id'][j]\n",
    "    new_list.append(x)  "
   ]
  },
  {
   "cell_type": "code",
   "execution_count": 185,
   "metadata": {},
   "outputs": [
    {
     "data": {
      "text/plain": [
       "{'link clicks': 120, 'other clicks': 241, 'photo view': 1}"
      ]
     },
     "execution_count": 185,
     "metadata": {},
     "output_type": "execute_result"
    }
   ],
   "source": [
    "newdata_ = pd.DataFrame(new_list,columns = x.keys())\n",
    "newdata_.head()\n",
    "newdata_['post_consumptions_by_type'][3]"
   ]
  },
  {
   "cell_type": "code",
   "execution_count": 49,
   "metadata": {},
   "outputs": [
    {
     "data": {
      "text/plain": [
       "16"
      ]
     },
     "execution_count": 49,
     "metadata": {},
     "output_type": "execute_result"
    }
   ],
   "source": [
    "\n",
    "dict_list = ['post_stories_by_action_type','post_storytellers_by_action_type','post_video_retention_graph_autoplayed','post_impressions_by_story_type','post_impressions_by_story_type_unique','post_story_adds_by_action_type_unique','post_negative_feedback_by_type_unique','post_negative_feedback_by_type','post_consumptions_by_type_unique','post_story_adds_by_action_type_unique','post_story_adds_by_action_type','post_video_retention_graph','post_impressions_by_paid_non_paid_unique','post_impressions_by_paid_non_paid','post_video_retention_graph_clicked_to_play','post_consumptions_by_type']\n",
    "len(dict_list)"
   ]
  },
  {
   "cell_type": "code",
   "execution_count": 50,
   "metadata": {},
   "outputs": [
    {
     "name": "stdout",
     "output_type": "stream",
     "text": [
      "45\n",
      "39\n"
     ]
    },
    {
     "data": {
      "text/html": [
       "<div>\n",
       "<style scoped>\n",
       "    .dataframe tbody tr th:only-of-type {\n",
       "        vertical-align: middle;\n",
       "    }\n",
       "\n",
       "    .dataframe tbody tr th {\n",
       "        vertical-align: top;\n",
       "    }\n",
       "\n",
       "    .dataframe thead th {\n",
       "        text-align: right;\n",
       "    }\n",
       "</style>\n",
       "<table border=\"1\" class=\"dataframe\">\n",
       "  <thead>\n",
       "    <tr style=\"text-align: right;\">\n",
       "      <th></th>\n",
       "      <th>post_engaged_users</th>\n",
       "      <th>post_impressions_fan_unique</th>\n",
       "      <th>post_impressions</th>\n",
       "      <th>post_video_complete_views_30s_unique</th>\n",
       "      <th>post_impressions_fan</th>\n",
       "      <th>post_video_complete_views_30s</th>\n",
       "      <th>post_storytellers</th>\n",
       "      <th>post_story_adds_unique</th>\n",
       "      <th>post_video_complete_views_organic_unique</th>\n",
       "      <th>post_impressions_fan_paid</th>\n",
       "      <th>...</th>\n",
       "      <th>post_video_complete_views_30s_autoplayed</th>\n",
       "      <th>post_video_complete_views_organic</th>\n",
       "      <th>post_impressions_viral_unique</th>\n",
       "      <th>post_impressions_paid</th>\n",
       "      <th>post_story_adds</th>\n",
       "      <th>post_stories</th>\n",
       "      <th>post_video_views_unique</th>\n",
       "      <th>post_video_views_clicked_to_play</th>\n",
       "      <th>post_video_views_autoplayed</th>\n",
       "      <th>id</th>\n",
       "    </tr>\n",
       "  </thead>\n",
       "  <tbody>\n",
       "    <tr>\n",
       "      <th>0</th>\n",
       "      <td>117</td>\n",
       "      <td>3566</td>\n",
       "      <td>4072</td>\n",
       "      <td>0</td>\n",
       "      <td>4037</td>\n",
       "      <td>0</td>\n",
       "      <td>38</td>\n",
       "      <td>38</td>\n",
       "      <td>0</td>\n",
       "      <td>0</td>\n",
       "      <td>...</td>\n",
       "      <td>0</td>\n",
       "      <td>0</td>\n",
       "      <td>22</td>\n",
       "      <td>0</td>\n",
       "      <td>42</td>\n",
       "      <td>42</td>\n",
       "      <td>0</td>\n",
       "      <td>0</td>\n",
       "      <td>0</td>\n",
       "      <td>114431401958534_940695755998757</td>\n",
       "    </tr>\n",
       "    <tr>\n",
       "      <th>1</th>\n",
       "      <td>2001</td>\n",
       "      <td>37757</td>\n",
       "      <td>65538</td>\n",
       "      <td>0</td>\n",
       "      <td>57439</td>\n",
       "      <td>0</td>\n",
       "      <td>628</td>\n",
       "      <td>628</td>\n",
       "      <td>0</td>\n",
       "      <td>0</td>\n",
       "      <td>...</td>\n",
       "      <td>0</td>\n",
       "      <td>0</td>\n",
       "      <td>6400</td>\n",
       "      <td>0</td>\n",
       "      <td>731</td>\n",
       "      <td>731</td>\n",
       "      <td>0</td>\n",
       "      <td>0</td>\n",
       "      <td>0</td>\n",
       "      <td>114431401958534_940684229333243</td>\n",
       "    </tr>\n",
       "    <tr>\n",
       "      <th>2</th>\n",
       "      <td>212</td>\n",
       "      <td>6036</td>\n",
       "      <td>9226</td>\n",
       "      <td>0</td>\n",
       "      <td>8967</td>\n",
       "      <td>0</td>\n",
       "      <td>24</td>\n",
       "      <td>24</td>\n",
       "      <td>0</td>\n",
       "      <td>0</td>\n",
       "      <td>...</td>\n",
       "      <td>0</td>\n",
       "      <td>0</td>\n",
       "      <td>86</td>\n",
       "      <td>0</td>\n",
       "      <td>28</td>\n",
       "      <td>28</td>\n",
       "      <td>0</td>\n",
       "      <td>0</td>\n",
       "      <td>0</td>\n",
       "      <td>114431401958534_940637569337909</td>\n",
       "    </tr>\n",
       "    <tr>\n",
       "      <th>3</th>\n",
       "      <td>314</td>\n",
       "      <td>19474</td>\n",
       "      <td>32136</td>\n",
       "      <td>0</td>\n",
       "      <td>31637</td>\n",
       "      <td>0</td>\n",
       "      <td>88</td>\n",
       "      <td>88</td>\n",
       "      <td>0</td>\n",
       "      <td>0</td>\n",
       "      <td>...</td>\n",
       "      <td>0</td>\n",
       "      <td>0</td>\n",
       "      <td>236</td>\n",
       "      <td>0</td>\n",
       "      <td>100</td>\n",
       "      <td>100</td>\n",
       "      <td>0</td>\n",
       "      <td>0</td>\n",
       "      <td>0</td>\n",
       "      <td>114431401958534_940535546014778</td>\n",
       "    </tr>\n",
       "    <tr>\n",
       "      <th>4</th>\n",
       "      <td>660</td>\n",
       "      <td>20716</td>\n",
       "      <td>33750</td>\n",
       "      <td>0</td>\n",
       "      <td>32914</td>\n",
       "      <td>0</td>\n",
       "      <td>73</td>\n",
       "      <td>73</td>\n",
       "      <td>0</td>\n",
       "      <td>0</td>\n",
       "      <td>...</td>\n",
       "      <td>0</td>\n",
       "      <td>0</td>\n",
       "      <td>423</td>\n",
       "      <td>0</td>\n",
       "      <td>80</td>\n",
       "      <td>80</td>\n",
       "      <td>0</td>\n",
       "      <td>0</td>\n",
       "      <td>0</td>\n",
       "      <td>114431401958534_940531679348498</td>\n",
       "    </tr>\n",
       "  </tbody>\n",
       "</table>\n",
       "<p>5 rows × 39 columns</p>\n",
       "</div>"
      ],
      "text/plain": [
       "   post_engaged_users  post_impressions_fan_unique  post_impressions  \\\n",
       "0                 117                         3566              4072   \n",
       "1                2001                        37757             65538   \n",
       "2                 212                         6036              9226   \n",
       "3                 314                        19474             32136   \n",
       "4                 660                        20716             33750   \n",
       "\n",
       "   post_video_complete_views_30s_unique  post_impressions_fan  \\\n",
       "0                                     0                  4037   \n",
       "1                                     0                 57439   \n",
       "2                                     0                  8967   \n",
       "3                                     0                 31637   \n",
       "4                                     0                 32914   \n",
       "\n",
       "   post_video_complete_views_30s  post_storytellers  post_story_adds_unique  \\\n",
       "0                              0                 38                      38   \n",
       "1                              0                628                     628   \n",
       "2                              0                 24                      24   \n",
       "3                              0                 88                      88   \n",
       "4                              0                 73                      73   \n",
       "\n",
       "   post_video_complete_views_organic_unique  post_impressions_fan_paid  \\\n",
       "0                                         0                          0   \n",
       "1                                         0                          0   \n",
       "2                                         0                          0   \n",
       "3                                         0                          0   \n",
       "4                                         0                          0   \n",
       "\n",
       "                ...                 post_video_complete_views_30s_autoplayed  \\\n",
       "0               ...                                                        0   \n",
       "1               ...                                                        0   \n",
       "2               ...                                                        0   \n",
       "3               ...                                                        0   \n",
       "4               ...                                                        0   \n",
       "\n",
       "   post_video_complete_views_organic  post_impressions_viral_unique  \\\n",
       "0                                  0                             22   \n",
       "1                                  0                           6400   \n",
       "2                                  0                             86   \n",
       "3                                  0                            236   \n",
       "4                                  0                            423   \n",
       "\n",
       "   post_impressions_paid  post_story_adds  post_stories  \\\n",
       "0                      0               42            42   \n",
       "1                      0              731           731   \n",
       "2                      0               28            28   \n",
       "3                      0              100           100   \n",
       "4                      0               80            80   \n",
       "\n",
       "   post_video_views_unique  post_video_views_clicked_to_play  \\\n",
       "0                        0                                 0   \n",
       "1                        0                                 0   \n",
       "2                        0                                 0   \n",
       "3                        0                                 0   \n",
       "4                        0                                 0   \n",
       "\n",
       "   post_video_views_autoplayed                               id  \n",
       "0                            0  114431401958534_940695755998757  \n",
       "1                            0  114431401958534_940684229333243  \n",
       "2                            0  114431401958534_940637569337909  \n",
       "3                            0  114431401958534_940535546014778  \n",
       "4                            0  114431401958534_940531679348498  \n",
       "\n",
       "[5 rows x 39 columns]"
      ]
     },
     "execution_count": 50,
     "metadata": {},
     "output_type": "execute_result"
    }
   ],
   "source": [
    "num_list = [i for i in newdata_.columns if i not in dict_list]\n",
    "num_list.append('id')\n",
    "print(len(num_list))\n",
    "ignore_list = ['post_video_retention_graph_clicked_to_play','post_video_retention_graph','post_video_retention_graph_autoplayed','post_video_avg_time_watched','post_video_views_paid_unique', 'post_video_views_paid','post_video_length','post_video_complete_views_paid','post_video_complete_views_30s_paid',  'post_video_avg_time_watched']\n",
    "num_list = [ i for i in num_list if i not in ignore_list]\n",
    "print(len(num_list))\n",
    "data_num = newdata_[num_list]\n",
    "data_num.head()"
   ]
  },
  {
   "cell_type": "code",
   "execution_count": 51,
   "metadata": {},
   "outputs": [],
   "source": [
    " ignore_list = ['post_video_retention_graph_clicked_to_play','post_video_retention_graph','post_video_retention_graph_autoplayed','post_video_avg_time_watched','post_video_views_paid_unique', 'post_video_views_paid','post_video_length','post_video_complete_views_paid','post_video_complete_views_30s_paid',  'post_video_avg_time_watched']"
   ]
  },
  {
   "cell_type": "code",
   "execution_count": 52,
   "metadata": {},
   "outputs": [
    {
     "name": "stdout",
     "output_type": "stream",
     "text": [
      "post_stories_by_action_type {'share': 9, 'like': 120, 'comment': 528}\n",
      "post_storytellers_by_action_type {'share': 9, 'like': 122, 'comment': 254}\n",
      "post_video_retention_graph_autoplayed {}\n",
      "post_impressions_by_story_type {'other': 8537}\n",
      "post_impressions_by_story_type_unique {'other': 6258}\n",
      "post_story_adds_by_action_type_unique {'share': 9, 'like': 122, 'comment': 254}\n",
      "post_negative_feedback_by_type_unique {'hide_all_clicks': 1, 'hide_clicks': 40}\n",
      "post_negative_feedback_by_type {'hide_all_clicks': 1, 'hide_clicks': 44}\n",
      "post_consumptions_by_type_unique {'link clicks': 939, 'other clicks': 3159}\n",
      "post_story_adds_by_action_type_unique {'share': 9, 'like': 122, 'comment': 254}\n",
      "post_story_adds_by_action_type {'share': 9, 'like': 120, 'comment': 528}\n",
      "post_video_retention_graph {}\n",
      "post_impressions_by_paid_non_paid_unique {'total': 62591, 'paid': 0, 'unpaid': 62591}\n",
      "post_impressions_by_paid_non_paid {'total': 110655, 'paid': 0, 'unpaid': 110655}\n",
      "post_video_retention_graph_clicked_to_play {}\n",
      "post_consumptions_by_type {'link clicks': 989, 'other clicks': 5544}\n"
     ]
    }
   ],
   "source": [
    "for i in dict_list:\n",
    "    print(i,newdata_[i][9])"
   ]
  },
  {
   "cell_type": "code",
   "execution_count": 53,
   "metadata": {},
   "outputs": [],
   "source": [
    "dict_list.append('id')\n",
    "len(dict_list)\n",
    "total_clicks =[]\n",
    "total_impressions =[]\n",
    "total_impressions_unique =[]\n",
    "total_shares =[]\n",
    "total_comments = []\n",
    "total_likes =[]\n",
    "negative_feedback =[]\n",
    "id = []\n",
    "for j in range(len(newdata_)):\n",
    "    for i in dict_list:\n",
    "        if i == 'post_stories_by_action_type':\n",
    "            if 'like' in newdata_[i][j].keys():\n",
    "                total_likes.append(newdata_[i][j]['like'])\n",
    "            else:\n",
    "                total_likes.append(0)\n",
    "            if 'comment' in newdata_[i][j].keys():\n",
    "                total_comments.append(newdata_[i][j]['comment'])\n",
    "            else:\n",
    "                total_comments.append(0)\n",
    "            if 'share' in newdata_[i][j].keys():\n",
    "                total_shares.append(newdata_[i][j]['share'])\n",
    "            else:\n",
    "                total_shares.append(0)\n",
    "        if i == 'post_impressions_by_story_type':\n",
    "            if 'other' in newdata_[i][j].keys():\n",
    "                total_impressions.append(newdata_[i][j]['other'])\n",
    "            else:\n",
    "                 total_impressions.append(0)\n",
    "        if i == 'post_impressions_by_story_type_unique':\n",
    "            if 'other' in newdata_[i][j].keys():\n",
    "                total_impressions_unique.append(newdata_[i][j]['other'])\n",
    "            else:\n",
    "                 total_impressions_unique.append(0)\n",
    "        if i == 'post_consumptions_by_type':\n",
    "            total_clicks.append(sum(newdata_[i][j].values()))\n",
    "        if i =='post_negative_feedback_by_type':\n",
    "            negative_feedback.append(sum(newdata_[i][j].values()))\n",
    "        if i == 'id':\n",
    "            id.append(newdata_[i][j])\n",
    "    \n",
    "    \n",
    "    \n",
    "    \n"
   ]
  },
  {
   "cell_type": "code",
   "execution_count": 54,
   "metadata": {},
   "outputs": [
    {
     "data": {
      "text/plain": [
       "5266"
      ]
     },
     "execution_count": 54,
     "metadata": {},
     "output_type": "execute_result"
    }
   ],
   "source": [
    "len(id)"
   ]
  },
  {
   "cell_type": "code",
   "execution_count": 55,
   "metadata": {},
   "outputs": [],
   "source": [
    "data_dict = pd.DataFrame()\n",
    "data_dict['id']= id\n",
    "data_dict['total_clicks'] = total_clicks\n",
    "data_dict['total_impressions'] = total_impressions\n",
    "data_dict['total_impressions_unique'] = total_impressions_unique\n",
    "data_dict['total_shares'] = total_shares\n",
    "data_dict['total_comments'] = total_comments\n",
    "data_dict['total_likes'] = total_likes\n",
    "data_dict['negative_feedback'] = negative_feedback"
   ]
  },
  {
   "cell_type": "code",
   "execution_count": 56,
   "metadata": {},
   "outputs": [
    {
     "data": {
      "text/html": [
       "<div>\n",
       "<style scoped>\n",
       "    .dataframe tbody tr th:only-of-type {\n",
       "        vertical-align: middle;\n",
       "    }\n",
       "\n",
       "    .dataframe tbody tr th {\n",
       "        vertical-align: top;\n",
       "    }\n",
       "\n",
       "    .dataframe thead th {\n",
       "        text-align: right;\n",
       "    }\n",
       "</style>\n",
       "<table border=\"1\" class=\"dataframe\">\n",
       "  <thead>\n",
       "    <tr style=\"text-align: right;\">\n",
       "      <th></th>\n",
       "      <th>id</th>\n",
       "      <th>total_clicks</th>\n",
       "      <th>total_impressions</th>\n",
       "      <th>total_impressions_unique</th>\n",
       "      <th>total_shares</th>\n",
       "      <th>total_comments</th>\n",
       "      <th>total_likes</th>\n",
       "      <th>negative_feedback</th>\n",
       "    </tr>\n",
       "  </thead>\n",
       "  <tbody>\n",
       "    <tr>\n",
       "      <th>0</th>\n",
       "      <td>114431401958534_940695755998757</td>\n",
       "      <td>170</td>\n",
       "      <td>30</td>\n",
       "      <td>22</td>\n",
       "      <td>1</td>\n",
       "      <td>35</td>\n",
       "      <td>6</td>\n",
       "      <td>2</td>\n",
       "    </tr>\n",
       "    <tr>\n",
       "      <th>1</th>\n",
       "      <td>114431401958534_940684229333243</td>\n",
       "      <td>2169</td>\n",
       "      <td>8491</td>\n",
       "      <td>6400</td>\n",
       "      <td>161</td>\n",
       "      <td>165</td>\n",
       "      <td>405</td>\n",
       "      <td>8</td>\n",
       "    </tr>\n",
       "    <tr>\n",
       "      <th>2</th>\n",
       "      <td>114431401958534_940637569337909</td>\n",
       "      <td>238</td>\n",
       "      <td>118</td>\n",
       "      <td>86</td>\n",
       "      <td>4</td>\n",
       "      <td>2</td>\n",
       "      <td>22</td>\n",
       "      <td>2</td>\n",
       "    </tr>\n",
       "    <tr>\n",
       "      <th>3</th>\n",
       "      <td>114431401958534_940535546014778</td>\n",
       "      <td>362</td>\n",
       "      <td>308</td>\n",
       "      <td>227</td>\n",
       "      <td>4</td>\n",
       "      <td>35</td>\n",
       "      <td>61</td>\n",
       "      <td>8</td>\n",
       "    </tr>\n",
       "    <tr>\n",
       "      <th>4</th>\n",
       "      <td>114431401958534_940531679348498</td>\n",
       "      <td>717</td>\n",
       "      <td>558</td>\n",
       "      <td>412</td>\n",
       "      <td>20</td>\n",
       "      <td>12</td>\n",
       "      <td>50</td>\n",
       "      <td>14</td>\n",
       "    </tr>\n",
       "  </tbody>\n",
       "</table>\n",
       "</div>"
      ],
      "text/plain": [
       "                                id  total_clicks  total_impressions  \\\n",
       "0  114431401958534_940695755998757           170                 30   \n",
       "1  114431401958534_940684229333243          2169               8491   \n",
       "2  114431401958534_940637569337909           238                118   \n",
       "3  114431401958534_940535546014778           362                308   \n",
       "4  114431401958534_940531679348498           717                558   \n",
       "\n",
       "   total_impressions_unique  total_shares  total_comments  total_likes  \\\n",
       "0                        22             1              35            6   \n",
       "1                      6400           161             165          405   \n",
       "2                        86             4               2           22   \n",
       "3                       227             4              35           61   \n",
       "4                       412            20              12           50   \n",
       "\n",
       "   negative_feedback  \n",
       "0                  2  \n",
       "1                  8  \n",
       "2                  2  \n",
       "3                  8  \n",
       "4                 14  "
      ]
     },
     "execution_count": 56,
     "metadata": {},
     "output_type": "execute_result"
    }
   ],
   "source": [
    "data_dict.head()"
   ]
  },
  {
   "cell_type": "code",
   "execution_count": 57,
   "metadata": {},
   "outputs": [],
   "source": [
    "data_dict.index = data_dict['id']\n",
    "data_num.index = data_num['id']"
   ]
  },
  {
   "cell_type": "code",
   "execution_count": 97,
   "metadata": {},
   "outputs": [
    {
     "data": {
      "text/plain": [
       "5268"
      ]
     },
     "execution_count": 97,
     "metadata": {},
     "output_type": "execute_result"
    }
   ],
   "source": [
    "len(data_insights)"
   ]
  },
  {
   "cell_type": "code",
   "execution_count": 98,
   "metadata": {},
   "outputs": [
    {
     "data": {
      "text/html": [
       "<div>\n",
       "<style scoped>\n",
       "    .dataframe tbody tr th:only-of-type {\n",
       "        vertical-align: middle;\n",
       "    }\n",
       "\n",
       "    .dataframe tbody tr th {\n",
       "        vertical-align: top;\n",
       "    }\n",
       "\n",
       "    .dataframe thead th {\n",
       "        text-align: right;\n",
       "    }\n",
       "</style>\n",
       "<table border=\"1\" class=\"dataframe\">\n",
       "  <thead>\n",
       "    <tr style=\"text-align: right;\">\n",
       "      <th></th>\n",
       "      <th>id</th>\n",
       "      <th>total_clicks</th>\n",
       "      <th>total_impressions</th>\n",
       "      <th>total_impressions_unique</th>\n",
       "      <th>total_shares</th>\n",
       "      <th>total_comments</th>\n",
       "      <th>total_likes</th>\n",
       "      <th>negative_feedback</th>\n",
       "      <th>post_impressions_viral</th>\n",
       "      <th>post_video_complete_views_organic_unique</th>\n",
       "      <th>...</th>\n",
       "      <th>post_video_complete_views_paid_unique</th>\n",
       "      <th>post_impressions</th>\n",
       "      <th>post_video_views</th>\n",
       "      <th>post_consumptions</th>\n",
       "      <th>post_consumptions_unique</th>\n",
       "      <th>post_impressions_organic</th>\n",
       "      <th>post_video_views_autoplayed</th>\n",
       "      <th>post_impressions_organic_unique</th>\n",
       "      <th>post_video_views_organic_unique</th>\n",
       "      <th>post_video_complete_views_30s</th>\n",
       "    </tr>\n",
       "  </thead>\n",
       "  <tbody>\n",
       "    <tr>\n",
       "      <th>0</th>\n",
       "      <td>114431401958534_940695755998757</td>\n",
       "      <td>170</td>\n",
       "      <td>30</td>\n",
       "      <td>22</td>\n",
       "      <td>1</td>\n",
       "      <td>35</td>\n",
       "      <td>6</td>\n",
       "      <td>2</td>\n",
       "      <td>30</td>\n",
       "      <td>0</td>\n",
       "      <td>...</td>\n",
       "      <td>0</td>\n",
       "      <td>4072</td>\n",
       "      <td>0</td>\n",
       "      <td>170</td>\n",
       "      <td>107</td>\n",
       "      <td>4042</td>\n",
       "      <td>0</td>\n",
       "      <td>3572</td>\n",
       "      <td>0</td>\n",
       "      <td>0</td>\n",
       "    </tr>\n",
       "    <tr>\n",
       "      <th>1</th>\n",
       "      <td>114431401958534_940684229333243</td>\n",
       "      <td>2169</td>\n",
       "      <td>8491</td>\n",
       "      <td>6400</td>\n",
       "      <td>161</td>\n",
       "      <td>165</td>\n",
       "      <td>405</td>\n",
       "      <td>8</td>\n",
       "      <td>8491</td>\n",
       "      <td>0</td>\n",
       "      <td>...</td>\n",
       "      <td>0</td>\n",
       "      <td>65538</td>\n",
       "      <td>0</td>\n",
       "      <td>2169</td>\n",
       "      <td>1688</td>\n",
       "      <td>57047</td>\n",
       "      <td>0</td>\n",
       "      <td>37558</td>\n",
       "      <td>0</td>\n",
       "      <td>0</td>\n",
       "    </tr>\n",
       "    <tr>\n",
       "      <th>2</th>\n",
       "      <td>114431401958534_940637569337909</td>\n",
       "      <td>238</td>\n",
       "      <td>118</td>\n",
       "      <td>86</td>\n",
       "      <td>4</td>\n",
       "      <td>2</td>\n",
       "      <td>22</td>\n",
       "      <td>2</td>\n",
       "      <td>118</td>\n",
       "      <td>0</td>\n",
       "      <td>...</td>\n",
       "      <td>0</td>\n",
       "      <td>9226</td>\n",
       "      <td>0</td>\n",
       "      <td>238</td>\n",
       "      <td>197</td>\n",
       "      <td>9108</td>\n",
       "      <td>0</td>\n",
       "      <td>6154</td>\n",
       "      <td>0</td>\n",
       "      <td>0</td>\n",
       "    </tr>\n",
       "    <tr>\n",
       "      <th>3</th>\n",
       "      <td>114431401958534_940535546014778</td>\n",
       "      <td>362</td>\n",
       "      <td>308</td>\n",
       "      <td>227</td>\n",
       "      <td>4</td>\n",
       "      <td>35</td>\n",
       "      <td>61</td>\n",
       "      <td>8</td>\n",
       "      <td>308</td>\n",
       "      <td>0</td>\n",
       "      <td>...</td>\n",
       "      <td>0</td>\n",
       "      <td>32136</td>\n",
       "      <td>0</td>\n",
       "      <td>362</td>\n",
       "      <td>255</td>\n",
       "      <td>31828</td>\n",
       "      <td>0</td>\n",
       "      <td>19702</td>\n",
       "      <td>0</td>\n",
       "      <td>0</td>\n",
       "    </tr>\n",
       "    <tr>\n",
       "      <th>4</th>\n",
       "      <td>114431401958534_940531679348498</td>\n",
       "      <td>717</td>\n",
       "      <td>558</td>\n",
       "      <td>412</td>\n",
       "      <td>20</td>\n",
       "      <td>12</td>\n",
       "      <td>50</td>\n",
       "      <td>14</td>\n",
       "      <td>558</td>\n",
       "      <td>0</td>\n",
       "      <td>...</td>\n",
       "      <td>0</td>\n",
       "      <td>33750</td>\n",
       "      <td>0</td>\n",
       "      <td>717</td>\n",
       "      <td>605</td>\n",
       "      <td>33192</td>\n",
       "      <td>0</td>\n",
       "      <td>21023</td>\n",
       "      <td>0</td>\n",
       "      <td>0</td>\n",
       "    </tr>\n",
       "  </tbody>\n",
       "</table>\n",
       "<p>5 rows × 45 columns</p>\n",
       "</div>"
      ],
      "text/plain": [
       "                                id  total_clicks  total_impressions  \\\n",
       "0  114431401958534_940695755998757           170                 30   \n",
       "1  114431401958534_940684229333243          2169               8491   \n",
       "2  114431401958534_940637569337909           238                118   \n",
       "3  114431401958534_940535546014778           362                308   \n",
       "4  114431401958534_940531679348498           717                558   \n",
       "\n",
       "   total_impressions_unique  total_shares  total_comments  total_likes  \\\n",
       "0                        22             1              35            6   \n",
       "1                      6400           161             165          405   \n",
       "2                        86             4               2           22   \n",
       "3                       227             4              35           61   \n",
       "4                       412            20              12           50   \n",
       "\n",
       "   negative_feedback  post_impressions_viral  \\\n",
       "0                  2                      30   \n",
       "1                  8                    8491   \n",
       "2                  2                     118   \n",
       "3                  8                     308   \n",
       "4                 14                     558   \n",
       "\n",
       "   post_video_complete_views_organic_unique              ...                \\\n",
       "0                                         0              ...                 \n",
       "1                                         0              ...                 \n",
       "2                                         0              ...                 \n",
       "3                                         0              ...                 \n",
       "4                                         0              ...                 \n",
       "\n",
       "   post_video_complete_views_paid_unique  post_impressions  post_video_views  \\\n",
       "0                                      0              4072                 0   \n",
       "1                                      0             65538                 0   \n",
       "2                                      0              9226                 0   \n",
       "3                                      0             32136                 0   \n",
       "4                                      0             33750                 0   \n",
       "\n",
       "   post_consumptions  post_consumptions_unique  post_impressions_organic  \\\n",
       "0                170                       107                      4042   \n",
       "1               2169                      1688                     57047   \n",
       "2                238                       197                      9108   \n",
       "3                362                       255                     31828   \n",
       "4                717                       605                     33192   \n",
       "\n",
       "   post_video_views_autoplayed  post_impressions_organic_unique  \\\n",
       "0                            0                             3572   \n",
       "1                            0                            37558   \n",
       "2                            0                             6154   \n",
       "3                            0                            19702   \n",
       "4                            0                            21023   \n",
       "\n",
       "   post_video_views_organic_unique  post_video_complete_views_30s  \n",
       "0                                0                              0  \n",
       "1                                0                              0  \n",
       "2                                0                              0  \n",
       "3                                0                              0  \n",
       "4                                0                              0  \n",
       "\n",
       "[5 rows x 45 columns]"
      ]
     },
     "execution_count": 98,
     "metadata": {},
     "output_type": "execute_result"
    }
   ],
   "source": [
    "data_insights.head()"
   ]
  },
  {
   "cell_type": "code",
   "execution_count": 99,
   "metadata": {},
   "outputs": [],
   "source": [
    "data_komo.drop(['feed_targeting', 'insights','story',], axis=1, inplace=True)"
   ]
  },
  {
   "cell_type": "code",
   "execution_count": 100,
   "metadata": {},
   "outputs": [
    {
     "data": {
      "text/plain": [
       "Index(['index', 'caption', 'created_time', 'description', 'id', 'link',\n",
       "       'link_to_post', 'message', 'name', 'picture', 'Descript'],\n",
       "      dtype='object')"
      ]
     },
     "execution_count": 100,
     "metadata": {},
     "output_type": "execute_result"
    }
   ],
   "source": [
    "data_komo.columns"
   ]
  },
  {
   "cell_type": "code",
   "execution_count": 101,
   "metadata": {},
   "outputs": [],
   "source": [
    "data_komo.index = data_komo['id']"
   ]
  },
  {
   "cell_type": "code",
   "execution_count": 102,
   "metadata": {},
   "outputs": [],
   "source": [
    "data_final = pd.merge(data_komo, data_insights, on='id', how='inner')"
   ]
  },
  {
   "cell_type": "code",
   "execution_count": 103,
   "metadata": {},
   "outputs": [
    {
     "data": {
      "text/html": [
       "<div>\n",
       "<style scoped>\n",
       "    .dataframe tbody tr th:only-of-type {\n",
       "        vertical-align: middle;\n",
       "    }\n",
       "\n",
       "    .dataframe tbody tr th {\n",
       "        vertical-align: top;\n",
       "    }\n",
       "\n",
       "    .dataframe thead th {\n",
       "        text-align: right;\n",
       "    }\n",
       "</style>\n",
       "<table border=\"1\" class=\"dataframe\">\n",
       "  <thead>\n",
       "    <tr style=\"text-align: right;\">\n",
       "      <th></th>\n",
       "      <th>index</th>\n",
       "      <th>caption</th>\n",
       "      <th>created_time</th>\n",
       "      <th>description</th>\n",
       "      <th>id</th>\n",
       "      <th>link</th>\n",
       "      <th>link_to_post</th>\n",
       "      <th>message</th>\n",
       "      <th>name</th>\n",
       "      <th>picture</th>\n",
       "      <th>...</th>\n",
       "      <th>post_video_complete_views_paid_unique</th>\n",
       "      <th>post_impressions</th>\n",
       "      <th>post_video_views</th>\n",
       "      <th>post_consumptions</th>\n",
       "      <th>post_consumptions_unique</th>\n",
       "      <th>post_impressions_organic</th>\n",
       "      <th>post_video_views_autoplayed</th>\n",
       "      <th>post_impressions_organic_unique</th>\n",
       "      <th>post_video_views_organic_unique</th>\n",
       "      <th>post_video_complete_views_30s</th>\n",
       "    </tr>\n",
       "  </thead>\n",
       "  <tbody>\n",
       "    <tr>\n",
       "      <th>0</th>\n",
       "      <td>0</td>\n",
       "      <td>komonews.com</td>\n",
       "      <td>2015-09-17 20:50:00</td>\n",
       "      <td>About 20 western Virginia high school students...</td>\n",
       "      <td>114431401958534_940695755998757</td>\n",
       "      <td>http://www.komonews.com/news/national/Students...</td>\n",
       "      <td>http://facebook.com/114431401958534_9406957559...</td>\n",
       "      <td>Do you think the Confederate flag should be ba...</td>\n",
       "      <td>Students suspended for clothing displaying Con...</td>\n",
       "      <td>https://external.xx.fbcdn.net/safe_image.php?d...</td>\n",
       "      <td>...</td>\n",
       "      <td>0</td>\n",
       "      <td>4072</td>\n",
       "      <td>0</td>\n",
       "      <td>170</td>\n",
       "      <td>107</td>\n",
       "      <td>4042</td>\n",
       "      <td>0</td>\n",
       "      <td>3572</td>\n",
       "      <td>0</td>\n",
       "      <td>0</td>\n",
       "    </tr>\n",
       "    <tr>\n",
       "      <th>1</th>\n",
       "      <td>2</td>\n",
       "      <td>komonews.com</td>\n",
       "      <td>2015-09-17 19:49:28</td>\n",
       "      <td>Despite September looking like it will break o...</td>\n",
       "      <td>114431401958534_940684229333243</td>\n",
       "      <td>http://www.komonews.com/weather/blogs/scott/Ne...</td>\n",
       "      <td>http://facebook.com/114431401958534_9406842293...</td>\n",
       "      <td>It'll be a bummer for snow lovers, but warm-we...</td>\n",
       "      <td>New forecasts still say mild winter, hot summe...</td>\n",
       "      <td>https://external.xx.fbcdn.net/safe_image.php?d...</td>\n",
       "      <td>...</td>\n",
       "      <td>0</td>\n",
       "      <td>65538</td>\n",
       "      <td>0</td>\n",
       "      <td>2169</td>\n",
       "      <td>1688</td>\n",
       "      <td>57047</td>\n",
       "      <td>0</td>\n",
       "      <td>37558</td>\n",
       "      <td>0</td>\n",
       "      <td>0</td>\n",
       "    </tr>\n",
       "    <tr>\n",
       "      <th>2</th>\n",
       "      <td>3</td>\n",
       "      <td>komonews.com</td>\n",
       "      <td>2015-09-17 19:18:00</td>\n",
       "      <td>Amazon is dangling a $50 tablet computer in it...</td>\n",
       "      <td>114431401958534_940637569337909</td>\n",
       "      <td>http://www.komonews.com/news/tech/Amazon-dangl...</td>\n",
       "      <td>http://facebook.com/114431401958534_9406375693...</td>\n",
       "      <td>What do you think of Amazon's cheaper tablet?</td>\n",
       "      <td>Amazon dangles $50 tablet computer to hook mor...</td>\n",
       "      <td>https://fbexternal-a.akamaihd.net/safe_image.p...</td>\n",
       "      <td>...</td>\n",
       "      <td>0</td>\n",
       "      <td>9226</td>\n",
       "      <td>0</td>\n",
       "      <td>238</td>\n",
       "      <td>197</td>\n",
       "      <td>9108</td>\n",
       "      <td>0</td>\n",
       "      <td>6154</td>\n",
       "      <td>0</td>\n",
       "      <td>0</td>\n",
       "    </tr>\n",
       "    <tr>\n",
       "      <th>3</th>\n",
       "      <td>4</td>\n",
       "      <td>komonews.com</td>\n",
       "      <td>2015-09-17 18:45:00</td>\n",
       "      <td>Earth's record-breaking heat is sounding an aw...</td>\n",
       "      <td>114431401958534_940535546014778</td>\n",
       "      <td>http://www.komonews.com/news/national/Earths-r...</td>\n",
       "      <td>http://facebook.com/114431401958534_9405355460...</td>\n",
       "      <td>Meteorologists say 2015 is a near certainty to...</td>\n",
       "      <td>Earth's record streak of record heat keeps on ...</td>\n",
       "      <td>https://external.xx.fbcdn.net/safe_image.php?d...</td>\n",
       "      <td>...</td>\n",
       "      <td>0</td>\n",
       "      <td>32136</td>\n",
       "      <td>0</td>\n",
       "      <td>362</td>\n",
       "      <td>255</td>\n",
       "      <td>31828</td>\n",
       "      <td>0</td>\n",
       "      <td>19702</td>\n",
       "      <td>0</td>\n",
       "      <td>0</td>\n",
       "    </tr>\n",
       "    <tr>\n",
       "      <th>4</th>\n",
       "      <td>6</td>\n",
       "      <td>komonews.com</td>\n",
       "      <td>2015-09-17 17:58:09</td>\n",
       "      <td>Authorities say two more bodies have been foun...</td>\n",
       "      <td>114431401958534_940531679348498</td>\n",
       "      <td>http://www.komonews.com/news/national/Death-to...</td>\n",
       "      <td>http://facebook.com/114431401958534_9405316793...</td>\n",
       "      <td>The tragedy comes as firefighters gained groun...</td>\n",
       "      <td>Death toll rises to 5 in Calif. wildfires as m...</td>\n",
       "      <td>https://external.xx.fbcdn.net/safe_image.php?d...</td>\n",
       "      <td>...</td>\n",
       "      <td>0</td>\n",
       "      <td>33750</td>\n",
       "      <td>0</td>\n",
       "      <td>717</td>\n",
       "      <td>605</td>\n",
       "      <td>33192</td>\n",
       "      <td>0</td>\n",
       "      <td>21023</td>\n",
       "      <td>0</td>\n",
       "      <td>0</td>\n",
       "    </tr>\n",
       "  </tbody>\n",
       "</table>\n",
       "<p>5 rows × 55 columns</p>\n",
       "</div>"
      ],
      "text/plain": [
       "   index       caption        created_time  \\\n",
       "0      0  komonews.com 2015-09-17 20:50:00   \n",
       "1      2  komonews.com 2015-09-17 19:49:28   \n",
       "2      3  komonews.com 2015-09-17 19:18:00   \n",
       "3      4  komonews.com 2015-09-17 18:45:00   \n",
       "4      6  komonews.com 2015-09-17 17:58:09   \n",
       "\n",
       "                                         description  \\\n",
       "0  About 20 western Virginia high school students...   \n",
       "1  Despite September looking like it will break o...   \n",
       "2  Amazon is dangling a $50 tablet computer in it...   \n",
       "3  Earth's record-breaking heat is sounding an aw...   \n",
       "4  Authorities say two more bodies have been foun...   \n",
       "\n",
       "                                id  \\\n",
       "0  114431401958534_940695755998757   \n",
       "1  114431401958534_940684229333243   \n",
       "2  114431401958534_940637569337909   \n",
       "3  114431401958534_940535546014778   \n",
       "4  114431401958534_940531679348498   \n",
       "\n",
       "                                                link  \\\n",
       "0  http://www.komonews.com/news/national/Students...   \n",
       "1  http://www.komonews.com/weather/blogs/scott/Ne...   \n",
       "2  http://www.komonews.com/news/tech/Amazon-dangl...   \n",
       "3  http://www.komonews.com/news/national/Earths-r...   \n",
       "4  http://www.komonews.com/news/national/Death-to...   \n",
       "\n",
       "                                        link_to_post  \\\n",
       "0  http://facebook.com/114431401958534_9406957559...   \n",
       "1  http://facebook.com/114431401958534_9406842293...   \n",
       "2  http://facebook.com/114431401958534_9406375693...   \n",
       "3  http://facebook.com/114431401958534_9405355460...   \n",
       "4  http://facebook.com/114431401958534_9405316793...   \n",
       "\n",
       "                                             message  \\\n",
       "0  Do you think the Confederate flag should be ba...   \n",
       "1  It'll be a bummer for snow lovers, but warm-we...   \n",
       "2      What do you think of Amazon's cheaper tablet?   \n",
       "3  Meteorologists say 2015 is a near certainty to...   \n",
       "4  The tragedy comes as firefighters gained groun...   \n",
       "\n",
       "                                                name  \\\n",
       "0  Students suspended for clothing displaying Con...   \n",
       "1  New forecasts still say mild winter, hot summe...   \n",
       "2  Amazon dangles $50 tablet computer to hook mor...   \n",
       "3  Earth's record streak of record heat keeps on ...   \n",
       "4  Death toll rises to 5 in Calif. wildfires as m...   \n",
       "\n",
       "                                             picture  \\\n",
       "0  https://external.xx.fbcdn.net/safe_image.php?d...   \n",
       "1  https://external.xx.fbcdn.net/safe_image.php?d...   \n",
       "2  https://fbexternal-a.akamaihd.net/safe_image.p...   \n",
       "3  https://external.xx.fbcdn.net/safe_image.php?d...   \n",
       "4  https://external.xx.fbcdn.net/safe_image.php?d...   \n",
       "\n",
       "               ...               post_video_complete_views_paid_unique  \\\n",
       "0              ...                                                   0   \n",
       "1              ...                                                   0   \n",
       "2              ...                                                   0   \n",
       "3              ...                                                   0   \n",
       "4              ...                                                   0   \n",
       "\n",
       "   post_impressions  post_video_views  post_consumptions  \\\n",
       "0              4072                 0                170   \n",
       "1             65538                 0               2169   \n",
       "2              9226                 0                238   \n",
       "3             32136                 0                362   \n",
       "4             33750                 0                717   \n",
       "\n",
       "   post_consumptions_unique  post_impressions_organic  \\\n",
       "0                       107                      4042   \n",
       "1                      1688                     57047   \n",
       "2                       197                      9108   \n",
       "3                       255                     31828   \n",
       "4                       605                     33192   \n",
       "\n",
       "   post_video_views_autoplayed  post_impressions_organic_unique  \\\n",
       "0                            0                             3572   \n",
       "1                            0                            37558   \n",
       "2                            0                             6154   \n",
       "3                            0                            19702   \n",
       "4                            0                            21023   \n",
       "\n",
       "   post_video_views_organic_unique  post_video_complete_views_30s  \n",
       "0                                0                              0  \n",
       "1                                0                              0  \n",
       "2                                0                              0  \n",
       "3                                0                              0  \n",
       "4                                0                              0  \n",
       "\n",
       "[5 rows x 55 columns]"
      ]
     },
     "execution_count": 103,
     "metadata": {},
     "output_type": "execute_result"
    }
   ],
   "source": [
    "data_final.head()"
   ]
  },
  {
   "cell_type": "code",
   "execution_count": 104,
   "metadata": {},
   "outputs": [
    {
     "data": {
      "text/plain": [
       "5272"
      ]
     },
     "execution_count": 104,
     "metadata": {},
     "output_type": "execute_result"
    }
   ],
   "source": [
    "len(data_final)"
   ]
  },
  {
   "cell_type": "code",
   "execution_count": 106,
   "metadata": {},
   "outputs": [],
   "source": [
    "data_final = data_final.drop_duplicates()"
   ]
  },
  {
   "cell_type": "code",
   "execution_count": 107,
   "metadata": {},
   "outputs": [
    {
     "data": {
      "text/plain": [
       "5266"
      ]
     },
     "execution_count": 107,
     "metadata": {},
     "output_type": "execute_result"
    }
   ],
   "source": [
    "len(data_final)"
   ]
  },
  {
   "cell_type": "markdown",
   "metadata": {},
   "source": [
    "## Prediction\n",
    "###### Now our data is ready. Lets define our problem statement. \n",
    "Develop a model to predict a post performance for new posts. \n",
    "Assumptions: The number of likes indicates the post performance.\n",
    "Predicting the likes determines the post performance\n",
    "\n"
   ]
  },
  {
   "cell_type": "code",
   "execution_count": 4,
   "metadata": {},
   "outputs": [],
   "source": [
    "data_final = pd.read_csv(r\"data_final.csv\")\n",
    "import warnings\n",
    "warnings.filterwarnings(\"ignore\")"
   ]
  },
  {
   "cell_type": "code",
   "execution_count": 7,
   "metadata": {},
   "outputs": [],
   "source": [
    "data_final['category'] = data_final['link'].apply(lambda x : get_tag(x))"
   ]
  },
  {
   "cell_type": "markdown",
   "metadata": {},
   "source": [
    "\n",
    "    post_consumptions == Number of clicks.&nbsp;\n",
    "    post_consumptions_unique == No.of people clicked &nbsp;\n",
    "    post_engaged_fan == No.of people liked page and clicked &nbsp;\n",
    "    post_engaged_user == No.of people clicked &nbsp;\n",
    "    post_fan_reach == No.of people who liked page and saw the post &nbsp;\n",
    "    post_impressions == Total number of impressions &nbsp; \n",
    "    post_total_impressions_unique/total_impressions_unique == No.of people who saw the post through friends&nbsp;\n",
    "    post_impressions_fan == No.of impressions through fan&nbsp;\n",
    "    post_impressions_organic == No.of impressions through pages timeline&nbsp;\n",
    "    post_impressions_organic_unique == No.of people who saw posts through pages timeline &nbsp;\n",
    "    post_impressions_viral == No.of impressions generated by friend's story&nbsp;\n",
    "    post_impressions_viral_unique == No of people who saw the page story at friends&nbsp;\n",
    "    post_story_adds == No of stories generated about your page post&nbsp;\n",
    "    post_story_tellers == No.of.people who created stories from the post &nbsp;\n",
    "    post_negative_feedback == \n",
    "    post_negative_feedback_type ==&nbsp;\n",
    "\n",
    "    Because columns are recorded after posting, they will not be used for modeling. However, they can give useful information about post reach, and we will be looking at them in EDA.&nbsp;\n",
    "\n",
    "    post_impressions_paid_unique : Lifetime: The number of people your advertised Page post was served to. (Unique Users)&nbsp;\n",
    "    We can use this if they paid for promotion of the post\n",
    "    post_fan_reach : Lifetime: The number of people who saw your Page post because they've liked your Page (Unique Users)\n",
    "    Assuming that post_fan_reach is correlated to number of people who have liked the page"
   ]
  },
  {
   "cell_type": "code",
   "execution_count": null,
   "metadata": {},
   "outputs": [],
   "source": [
    "df = data_final[['created_time','post_impressions_paid_unique','total_likes','post_video_views','caption']]"
   ]
  },
  {
   "cell_type": "code",
   "execution_count": 10,
   "metadata": {},
   "outputs": [],
   "source": [
    "df['created_time'] = pd.to_datetime(df['created_time'])\n",
    "df['month'] = df['created_time'].apply(lambda x: x.strftime('%m')) "
   ]
  },
  {
   "cell_type": "code",
   "execution_count": 11,
   "metadata": {},
   "outputs": [],
   "source": [
    "df['weekday'] = df['created_time'].dt.weekday_name"
   ]
  },
  {
   "cell_type": "code",
   "execution_count": 12,
   "metadata": {},
   "outputs": [],
   "source": [
    "df['hour'] = df['created_time'].dt.hour"
   ]
  },
  {
   "cell_type": "code",
   "execution_count": 13,
   "metadata": {},
   "outputs": [
    {
     "data": {
      "text/html": [
       "<div>\n",
       "<style scoped>\n",
       "    .dataframe tbody tr th:only-of-type {\n",
       "        vertical-align: middle;\n",
       "    }\n",
       "\n",
       "    .dataframe tbody tr th {\n",
       "        vertical-align: top;\n",
       "    }\n",
       "\n",
       "    .dataframe thead th {\n",
       "        text-align: right;\n",
       "    }\n",
       "</style>\n",
       "<table border=\"1\" class=\"dataframe\">\n",
       "  <thead>\n",
       "    <tr style=\"text-align: right;\">\n",
       "      <th></th>\n",
       "      <th>post_impressions_paid_unique</th>\n",
       "      <th>created_time</th>\n",
       "      <th>total_likes</th>\n",
       "      <th>post_video_views</th>\n",
       "      <th>post_fan_reach</th>\n",
       "      <th>caption</th>\n",
       "      <th>category</th>\n",
       "      <th>paid</th>\n",
       "      <th>month</th>\n",
       "      <th>weekday</th>\n",
       "      <th>hour</th>\n",
       "    </tr>\n",
       "  </thead>\n",
       "  <tbody>\n",
       "    <tr>\n",
       "      <th>0</th>\n",
       "      <td>0</td>\n",
       "      <td>2015-09-17 20:50:00</td>\n",
       "      <td>6</td>\n",
       "      <td>0</td>\n",
       "      <td>3566</td>\n",
       "      <td>komonews.com</td>\n",
       "      <td>national</td>\n",
       "      <td>0</td>\n",
       "      <td>09</td>\n",
       "      <td>Thursday</td>\n",
       "      <td>20</td>\n",
       "    </tr>\n",
       "    <tr>\n",
       "      <th>1</th>\n",
       "      <td>0</td>\n",
       "      <td>2015-09-17 19:49:28</td>\n",
       "      <td>405</td>\n",
       "      <td>0</td>\n",
       "      <td>37757</td>\n",
       "      <td>komonews.com</td>\n",
       "      <td>blogs</td>\n",
       "      <td>0</td>\n",
       "      <td>09</td>\n",
       "      <td>Thursday</td>\n",
       "      <td>19</td>\n",
       "    </tr>\n",
       "    <tr>\n",
       "      <th>2</th>\n",
       "      <td>0</td>\n",
       "      <td>2015-09-17 19:18:00</td>\n",
       "      <td>22</td>\n",
       "      <td>0</td>\n",
       "      <td>6036</td>\n",
       "      <td>komonews.com</td>\n",
       "      <td>tech</td>\n",
       "      <td>0</td>\n",
       "      <td>09</td>\n",
       "      <td>Thursday</td>\n",
       "      <td>19</td>\n",
       "    </tr>\n",
       "    <tr>\n",
       "      <th>3</th>\n",
       "      <td>0</td>\n",
       "      <td>2015-09-17 18:45:00</td>\n",
       "      <td>61</td>\n",
       "      <td>0</td>\n",
       "      <td>19474</td>\n",
       "      <td>komonews.com</td>\n",
       "      <td>national</td>\n",
       "      <td>0</td>\n",
       "      <td>09</td>\n",
       "      <td>Thursday</td>\n",
       "      <td>18</td>\n",
       "    </tr>\n",
       "    <tr>\n",
       "      <th>4</th>\n",
       "      <td>0</td>\n",
       "      <td>2015-09-17 17:58:09</td>\n",
       "      <td>50</td>\n",
       "      <td>0</td>\n",
       "      <td>20716</td>\n",
       "      <td>komonews.com</td>\n",
       "      <td>national</td>\n",
       "      <td>0</td>\n",
       "      <td>09</td>\n",
       "      <td>Thursday</td>\n",
       "      <td>17</td>\n",
       "    </tr>\n",
       "  </tbody>\n",
       "</table>\n",
       "</div>"
      ],
      "text/plain": [
       "   post_impressions_paid_unique        created_time  total_likes  \\\n",
       "0                             0 2015-09-17 20:50:00            6   \n",
       "1                             0 2015-09-17 19:49:28          405   \n",
       "2                             0 2015-09-17 19:18:00           22   \n",
       "3                             0 2015-09-17 18:45:00           61   \n",
       "4                             0 2015-09-17 17:58:09           50   \n",
       "\n",
       "   post_video_views  post_fan_reach       caption  category  paid month  \\\n",
       "0                 0            3566  komonews.com  national     0    09   \n",
       "1                 0           37757  komonews.com     blogs     0    09   \n",
       "2                 0            6036  komonews.com      tech     0    09   \n",
       "3                 0           19474  komonews.com  national     0    09   \n",
       "4                 0           20716  komonews.com  national     0    09   \n",
       "\n",
       "    weekday  hour  \n",
       "0  Thursday    20  \n",
       "1  Thursday    19  \n",
       "2  Thursday    19  \n",
       "3  Thursday    18  \n",
       "4  Thursday    17  "
      ]
     },
     "execution_count": 13,
     "metadata": {},
     "output_type": "execute_result"
    }
   ],
   "source": [
    "df.head()"
   ]
  },
  {
   "cell_type": "code",
   "execution_count": 14,
   "metadata": {},
   "outputs": [],
   "source": [
    "def caption_cat(x):\n",
    "    komo = ['komonews.com','www.komonews.com','sbg.komonews.com']\n",
    "    cnn  = ['cnn.com','www.cnn.com']\n",
    "    youtube = ['youtube.com','www.youtube.com']\n",
    "    other = ['abcnews.go.com','rumble.com']\n",
    "    if x in komo:\n",
    "        return 1\n",
    "    if x  in cnn:\n",
    "        return 2\n",
    "    if x in youtube:\n",
    "        return 3\n",
    "    if x in other:\n",
    "        return 0"
   ]
  },
  {
   "cell_type": "code",
   "execution_count": 15,
   "metadata": {},
   "outputs": [],
   "source": [
    "df['caption'] = df['caption'].apply(lambda x : caption_cat(x))"
   ]
  },
  {
   "cell_type": "code",
   "execution_count": 16,
   "metadata": {},
   "outputs": [],
   "source": [
    "def category_group(x):\n",
    "    if x == 'local':\n",
    "        return 1\n",
    "    else:\n",
    "        return 0"
   ]
  },
  {
   "cell_type": "code",
   "execution_count": 17,
   "metadata": {},
   "outputs": [],
   "source": [
    "df['category'] = df['category'].apply(lambda x : category_group(x))"
   ]
  },
  {
   "cell_type": "markdown",
   "metadata": {},
   "source": [
    "###### Exploratory data analysis (EDA)"
   ]
  },
  {
   "cell_type": "code",
   "execution_count": 19,
   "metadata": {},
   "outputs": [
    {
     "data": {
      "text/plain": [
       "<matplotlib.axes._subplots.AxesSubplot at 0x178f647e400>"
      ]
     },
     "execution_count": 19,
     "metadata": {},
     "output_type": "execute_result"
    },
    {
     "data": {
      "image/png": "[encoded data removed]",
      "text/plain": [
       "<matplotlib.figure.Figure at 0x178f4414d68>"
      ]
     },
     "metadata": {},
     "output_type": "display_data"
    }
   ],
   "source": [
    "import seaborn as sns\n",
    "%matplotlib inline\n",
    "plt.figure(figsize=(12,10))\n",
    "sns.heatmap(df.corr(),cmap='viridis',annot=True,cbar=False)"
   ]
  },
  {
   "cell_type": "markdown",
   "metadata": {},
   "source": [
    "###### Univariate analysis on page likes and post likes "
   ]
  },
  {
   "cell_type": "code",
   "execution_count": 20,
   "metadata": {},
   "outputs": [
    {
     "data": {
      "text/plain": [
       "Text(0.5,1,'Distribution of Total Page Likes')"
      ]
     },
     "execution_count": 20,
     "metadata": {},
     "output_type": "execute_result"
    },
    {
     "data": {
      "image/png": "[encoded data removed]",
      "text/plain": [
       "<matplotlib.figure.Figure at 0x178f64b62e8>"
      ]
     },
     "metadata": {},
     "output_type": "display_data"
    }
   ],
   "source": [
    "sns.distplot(df['post_fan_reach'],bins=20)\n",
    "plt.title(\"Distribution of Total Page Likes\")"
   ]
  },
  {
   "cell_type": "code",
   "execution_count": 21,
   "metadata": {},
   "outputs": [
    {
     "data": {
      "text/plain": [
       "Text(0.5,1,'Distribution of Like/Post')"
      ]
     },
     "execution_count": 21,
     "metadata": {},
     "output_type": "execute_result"
    },
    {
     "data": {
      "image/png": "[encoded data removed]",
      "text/plain": [
       "<matplotlib.figure.Figure at 0x178f64cb550>"
      ]
     },
     "metadata": {},
     "output_type": "display_data"
    }
   ],
   "source": [
    "plt.figure(figsize=(14,8))\n",
    "sns.distplot(df[df['total_likes']<1000]['total_likes'],bins=20,color='dodgerblue',hist_kws={'alpha':0.6})\n",
    "plt.xlim(0,1000)\n",
    "plt.xlabel(\"# of Likes\",fontsize=15)\n",
    "plt.ylabel('Frequency',fontsize=15)\n",
    "plt.title('Distribution of Like/Post',fontsize=20)"
   ]
  },
  {
   "cell_type": "markdown",
   "metadata": {},
   "source": [
    "###### Analysis of time categories"
   ]
  },
  {
   "cell_type": "code",
   "execution_count": 22,
   "metadata": {},
   "outputs": [
    {
     "data": {
      "text/plain": [
       "<matplotlib.axes._subplots.AxesSubplot at 0x178f6b927f0>"
      ]
     },
     "execution_count": 22,
     "metadata": {},
     "output_type": "execute_result"
    },
    {
     "data": {
      "image/png": "[encoded data removed]",
      "text/plain": [
       "<matplotlib.figure.Figure at 0x178f6b886d8>"
      ]
     },
     "metadata": {},
     "output_type": "display_data"
    }
   ],
   "source": [
    "sns.countplot(df['category'],palette='viridis')"
   ]
  },
  {
   "cell_type": "code",
   "execution_count": 23,
   "metadata": {},
   "outputs": [
    {
     "data": {
      "text/plain": [
       "<matplotlib.axes._subplots.AxesSubplot at 0x178f6bcc780>"
      ]
     },
     "execution_count": 23,
     "metadata": {},
     "output_type": "execute_result"
    },
    {
     "data": {
      "image/png": "[encoded data removed]",
      "text/plain": [
       "<matplotlib.figure.Figure at 0x178f6b92780>"
      ]
     },
     "metadata": {},
     "output_type": "display_data"
    }
   ],
   "source": [
    "sns.countplot(df['month'],palette='viridis')"
   ]
  },
  {
   "cell_type": "code",
   "execution_count": 24,
   "metadata": {},
   "outputs": [
    {
     "data": {
      "text/plain": [
       "Text(0.5,1,'Frequency of Posts by Weekday')"
      ]
     },
     "execution_count": 24,
     "metadata": {},
     "output_type": "execute_result"
    },
    {
     "data": {
      "image/png": "[encoded data removed]",
      "text/plain": [
       "<matplotlib.figure.Figure at 0x178f6bdc0b8>"
      ]
     },
     "metadata": {},
     "output_type": "display_data"
    }
   ],
   "source": [
    "from collections import OrderedDict\n",
    "sns.set_style(\"whitegrid\")\n",
    "\n",
    "f, ax = plt.subplots()\n",
    "sns.countplot(df['weekday'],palette='viridis')\n",
    "handles = [\"Su\", \"M\", \"Tu\", \"W\", \"Th\", \"F\",'Sa']\n",
    "labels = [0,1,2,3,4,5,6]\n",
    "plt.xticks(labels, handles)\n",
    "ax.set_ylabel(\"Frequency\")\n",
    "sns.despine(offset = 5, trim = True)\n",
    "plt.title(\"Frequency of Posts by Weekday\")\n",
    "#plt.savefig('dayCount.png', bbox_inches='tight')"
   ]
  },
  {
   "cell_type": "code",
   "execution_count": 25,
   "metadata": {},
   "outputs": [
    {
     "data": {
      "text/plain": [
       "Text(0.5,1,'Frequency of Posts by Hour')"
      ]
     },
     "execution_count": 25,
     "metadata": {},
     "output_type": "execute_result"
    },
    {
     "data": {
      "image/png": "[encoded data removed]",
      "text/plain": [
       "<matplotlib.figure.Figure at 0x178f6bdf940>"
      ]
     },
     "metadata": {},
     "output_type": "display_data"
    }
   ],
   "source": [
    "sns.set_style(\"whitegrid\")\n",
    "\n",
    "f, ax = plt.subplots()\n",
    "sns.countplot(df['hour'],palette='viridis',)\n",
    "ax.set_ylabel(\"Frequency\")\n",
    "sns.despine(offset = 5, trim = True)\n",
    "plt.title(\"Frequency of Posts by Hour\")\n",
    "#plt.savefig('hourCount.png', bbox_inches='tight')"
   ]
  },
  {
   "cell_type": "code",
   "execution_count": 26,
   "metadata": {},
   "outputs": [
    {
     "data": {
      "text/plain": [
       "Text(0,0.5,'# of Likes')"
      ]
     },
     "execution_count": 26,
     "metadata": {},
     "output_type": "execute_result"
    },
    {
     "data": {
      "image/png": "[encoded data removed]",
      "text/plain": [
       "<matplotlib.figure.Figure at 0x178f579e9b0>"
      ]
     },
     "metadata": {},
     "output_type": "display_data"
    }
   ],
   "source": [
    "plt.figure(figsize=(8,6))\n",
    "sns.boxplot(x='weekday',y='total_likes',data=df,palette='viridis')\n",
    "plt.ylim(0,5000)\n",
    "plt.title(\"Distribution of Likes/Post by Weekday Posted\")\n",
    "plt.ylabel(\"# of Likes\")"
   ]
  },
  {
   "cell_type": "code",
   "execution_count": 27,
   "metadata": {},
   "outputs": [
    {
     "data": {
      "image/png": "[encoded data removed]",
      "text/plain": [
       "<matplotlib.figure.Figure at 0x178f583b2e8>"
      ]
     },
     "metadata": {},
     "output_type": "display_data"
    }
   ],
   "source": [
    "plt.figure(figsize=(8,6))\n",
    "sns.boxplot(x='hour',y='total_likes',data=df,palette='viridis')\n",
    "plt.ylim(0,5000)\n",
    "plt.title(\"Distribution of Post Likes by Hour Posted\")\n",
    "plt.ylabel(\"# of Likes\")\n",
    "plt.savefig('hourBox.png', bbox_inches='tight')"
   ]
  },
  {
   "cell_type": "code",
   "execution_count": 28,
   "metadata": {},
   "outputs": [
    {
     "data": {
      "image/png": "[encoded data removed]",
      "text/plain": [
       "<matplotlib.figure.Figure at 0x178f6c93ac8>"
      ]
     },
     "metadata": {},
     "output_type": "display_data"
    }
   ],
   "source": [
    "plt.figure(figsize=(8,6))\n",
    "sns.boxplot(x='month',y='total_likes',data=df, hue ='paid',palette='viridis')\n",
    "plt.ylim(0,5000)\n",
    "plt.title(\"Distribution of Total Interactions by Month Posted\")\n",
    "plt.ylabel(\"# of Likes\")\n",
    "plt.savefig('monthBox.png', bbox_inches='tight')"
   ]
  },
  {
   "cell_type": "markdown",
   "metadata": {},
   "source": [
    "###### Total Page Likes vs. Post likes"
   ]
  },
  {
   "cell_type": "code",
   "execution_count": 29,
   "metadata": {},
   "outputs": [
    {
     "data": {
      "text/plain": [
       "Text(0.5,1,'# Page Likes vs. # Post Likes')"
      ]
     },
     "execution_count": 29,
     "metadata": {},
     "output_type": "execute_result"
    },
    {
     "data": {
      "image/png": "[encoded data removed]",
      "text/plain": [
       "<matplotlib.figure.Figure at 0x178f708da20>"
      ]
     },
     "metadata": {},
     "output_type": "display_data"
    }
   ],
   "source": [
    "sns.lmplot(x='post_fan_reach',y='total_likes',hue = 'paid',\n",
    "           data=df,fit_reg=True,\n",
    "          scatter_kws={'alpha':0.6},size=(6))\n",
    "plt.legend()\n",
    "plt.ylim(0,7000)\n",
    "plt.ylabel(\"# of Likes\")\n",
    "plt.title('# Page Likes vs. # Post Likes')"
   ]
  },
  {
   "cell_type": "markdown",
   "metadata": {},
   "source": [
    "Does the number of likes per post increase as the total page like increases? It depends."
   ]
  },
  {
   "cell_type": "markdown",
   "metadata": {},
   "source": [
    "###### Category vs likes"
   ]
  },
  {
   "cell_type": "code",
   "execution_count": 30,
   "metadata": {},
   "outputs": [
    {
     "data": {
      "image/png": "[encoded data removed]",
      "text/plain": [
       "<matplotlib.figure.Figure at 0x178f70f8588>"
      ]
     },
     "metadata": {},
     "output_type": "display_data"
    }
   ],
   "source": [
    "plt.figure(figsize=(8,6))\n",
    "sns.boxplot(x='category',y='total_likes',data=df,palette='viridis')\n",
    "plt.ylim(0,5000)\n",
    "plt.ylabel(\"# of Likes\")\n",
    "plt.title(\"Number of Likes vs. Post Category\")\n",
    "plt.savefig('catBox.png', bbox_inches='tight')"
   ]
  },
  {
   "cell_type": "code",
   "execution_count": 31,
   "metadata": {},
   "outputs": [
    {
     "data": {
      "image/png": "[encoded data removed]",
      "text/plain": [
       "<matplotlib.figure.Figure at 0x178f711f470>"
      ]
     },
     "metadata": {},
     "output_type": "display_data"
    }
   ],
   "source": [
    "plt.figure(figsize=(8,6))\n",
    "sns.boxplot(x='category',y='total_likes',data=df,hue='paid',palette='viridis')\n",
    "plt.ylim(0,2500)\n",
    "plt.ylabel(\"# of likes\")\n",
    "plt.legend(loc='upper left')\n",
    "plt.title(\"Likes/Post by Category and if Posts were Paid\")\n",
    "plt.savefig('catPaidCount.png', bbox_inches='tight')"
   ]
  },
  {
   "cell_type": "markdown",
   "metadata": {},
   "source": [
    "###### Paid Posts vs. Likes"
   ]
  },
  {
   "cell_type": "code",
   "execution_count": 32,
   "metadata": {},
   "outputs": [
    {
     "data": {
      "image/png": "[encoded data removed]",
      "text/plain": [
       "<matplotlib.figure.Figure at 0x178f70bed68>"
      ]
     },
     "metadata": {},
     "output_type": "display_data"
    }
   ],
   "source": [
    "plt.figure(figsize=(10,6))\n",
    "sns.boxplot(x='paid',y='total_likes',data=df,palette='viridis')\n",
    "plt.ylim(0,5000)\n",
    "#sns.despine(offset=4,bottom=True)\n",
    "plt.title(\"likes/Post by Paid/Non-Paid Posts\")\n",
    "plt.ylabel(\"# of likes\")\n",
    "plt.savefig('paidBox.png', bbox_inches='tight')"
   ]
  },
  {
   "cell_type": "code",
   "execution_count": 33,
   "metadata": {},
   "outputs": [
    {
     "data": {
      "image/png": "[encoded data removed]",
      "text/plain": [
       "<matplotlib.figure.Figure at 0x178f71d79b0>"
      ]
     },
     "metadata": {},
     "output_type": "display_data"
    }
   ],
   "source": [
    "plt.figure(figsize=(10,6))\n",
    "sns.countplot(x='paid',data=df,palette='viridis')\n",
    "#sns.despine(offset=4,bottom=True)\n",
    "plt.title(\"likes/Post by Paid/Non-Paid Posts\")\n",
    "plt.ylabel(\"# of Posts\")\n",
    "plt.savefig('paidCount.png', bbox_inches='tight')"
   ]
  },
  {
   "cell_type": "markdown",
   "metadata": {},
   "source": [
    "Observations:\n",
    "\n",
    "There were more non-paid posts than paid posts"
   ]
  },
  {
   "cell_type": "markdown",
   "metadata": {},
   "source": [
    "## Prediction"
   ]
  },
  {
   "cell_type": "markdown",
   "metadata": {},
   "source": [
    "###### Modeling: Can we predict the number of likes a post will get?"
   ]
  },
  {
   "cell_type": "code",
   "execution_count": 34,
   "metadata": {},
   "outputs": [],
   "source": [
    "from sklearn import linear_model\n",
    "from sklearn.model_selection import train_test_split\n",
    "from sklearn.metrics import r2_score\n",
    "from sklearn.preprocessing import StandardScaler"
   ]
  },
  {
   "cell_type": "markdown",
   "metadata": {},
   "source": [
    "###### Removing Outliers and Binarizing Categorical Variables\n",
    "To remove the decent amount of outliers, I will remove nay variables that are above the 90th percentile.\n",
    "\n",
    "After, I will span the categorical columns out into binary features. To avoid multicolinearity, I will be taking n-1 columns for each feature.\n",
    "\n",
    "Removing Outliers"
   ]
  },
  {
   "cell_type": "code",
   "execution_count": 35,
   "metadata": {},
   "outputs": [
    {
     "data": {
      "text/plain": [
       "1255.0"
      ]
     },
     "execution_count": 35,
     "metadata": {},
     "output_type": "execute_result"
    }
   ],
   "source": [
    "outlierCut = np.percentile(df['total_likes'],90)\n",
    "outlierCut"
   ]
  },
  {
   "cell_type": "code",
   "execution_count": 36,
   "metadata": {},
   "outputs": [],
   "source": [
    "df = df[df['total_likes']<outlierCut]"
   ]
  },
  {
   "cell_type": "code",
   "execution_count": 40,
   "metadata": {},
   "outputs": [
    {
     "data": {
      "text/plain": [
       "Wednesday    731\n",
       "Tuesday      727\n",
       "Thursday     706\n",
       "Friday       706\n",
       "Monday       695\n",
       "Saturday     643\n",
       "Sunday       531\n",
       "Name: weekday, dtype: int64"
      ]
     },
     "execution_count": 40,
     "metadata": {},
     "output_type": "execute_result"
    }
   ],
   "source": [
    "df.weekday.value_counts()"
   ]
  },
  {
   "cell_type": "code",
   "execution_count": 41,
   "metadata": {},
   "outputs": [
    {
     "data": {
      "text/html": [
       "<div>\n",
       "<style scoped>\n",
       "    .dataframe tbody tr th:only-of-type {\n",
       "        vertical-align: middle;\n",
       "    }\n",
       "\n",
       "    .dataframe tbody tr th {\n",
       "        vertical-align: top;\n",
       "    }\n",
       "\n",
       "    .dataframe thead th {\n",
       "        text-align: right;\n",
       "    }\n",
       "</style>\n",
       "<table border=\"1\" class=\"dataframe\">\n",
       "  <thead>\n",
       "    <tr style=\"text-align: right;\">\n",
       "      <th></th>\n",
       "      <th>post_impressions_paid_unique</th>\n",
       "      <th>created_time</th>\n",
       "      <th>total_likes</th>\n",
       "      <th>post_video_views</th>\n",
       "      <th>post_fan_reach</th>\n",
       "      <th>caption</th>\n",
       "      <th>category</th>\n",
       "      <th>paid</th>\n",
       "      <th>month</th>\n",
       "      <th>weekday</th>\n",
       "      <th>hour</th>\n",
       "    </tr>\n",
       "  </thead>\n",
       "  <tbody>\n",
       "    <tr>\n",
       "      <th>0</th>\n",
       "      <td>0</td>\n",
       "      <td>2015-09-17 20:50:00</td>\n",
       "      <td>6</td>\n",
       "      <td>0</td>\n",
       "      <td>3566</td>\n",
       "      <td>1</td>\n",
       "      <td>0</td>\n",
       "      <td>0</td>\n",
       "      <td>09</td>\n",
       "      <td>Thursday</td>\n",
       "      <td>20</td>\n",
       "    </tr>\n",
       "    <tr>\n",
       "      <th>1</th>\n",
       "      <td>0</td>\n",
       "      <td>2015-09-17 19:49:28</td>\n",
       "      <td>405</td>\n",
       "      <td>0</td>\n",
       "      <td>37757</td>\n",
       "      <td>1</td>\n",
       "      <td>0</td>\n",
       "      <td>0</td>\n",
       "      <td>09</td>\n",
       "      <td>Thursday</td>\n",
       "      <td>19</td>\n",
       "    </tr>\n",
       "    <tr>\n",
       "      <th>2</th>\n",
       "      <td>0</td>\n",
       "      <td>2015-09-17 19:18:00</td>\n",
       "      <td>22</td>\n",
       "      <td>0</td>\n",
       "      <td>6036</td>\n",
       "      <td>1</td>\n",
       "      <td>0</td>\n",
       "      <td>0</td>\n",
       "      <td>09</td>\n",
       "      <td>Thursday</td>\n",
       "      <td>19</td>\n",
       "    </tr>\n",
       "    <tr>\n",
       "      <th>3</th>\n",
       "      <td>0</td>\n",
       "      <td>2015-09-17 18:45:00</td>\n",
       "      <td>61</td>\n",
       "      <td>0</td>\n",
       "      <td>19474</td>\n",
       "      <td>1</td>\n",
       "      <td>0</td>\n",
       "      <td>0</td>\n",
       "      <td>09</td>\n",
       "      <td>Thursday</td>\n",
       "      <td>18</td>\n",
       "    </tr>\n",
       "    <tr>\n",
       "      <th>4</th>\n",
       "      <td>0</td>\n",
       "      <td>2015-09-17 17:58:09</td>\n",
       "      <td>50</td>\n",
       "      <td>0</td>\n",
       "      <td>20716</td>\n",
       "      <td>1</td>\n",
       "      <td>0</td>\n",
       "      <td>0</td>\n",
       "      <td>09</td>\n",
       "      <td>Thursday</td>\n",
       "      <td>17</td>\n",
       "    </tr>\n",
       "  </tbody>\n",
       "</table>\n",
       "</div>"
      ],
      "text/plain": [
       "   post_impressions_paid_unique        created_time  total_likes  \\\n",
       "0                             0 2015-09-17 20:50:00            6   \n",
       "1                             0 2015-09-17 19:49:28          405   \n",
       "2                             0 2015-09-17 19:18:00           22   \n",
       "3                             0 2015-09-17 18:45:00           61   \n",
       "4                             0 2015-09-17 17:58:09           50   \n",
       "\n",
       "   post_video_views  post_fan_reach  caption  category  paid month   weekday  \\\n",
       "0                 0            3566        1         0     0    09  Thursday   \n",
       "1                 0           37757        1         0     0    09  Thursday   \n",
       "2                 0            6036        1         0     0    09  Thursday   \n",
       "3                 0           19474        1         0     0    09  Thursday   \n",
       "4                 0           20716        1         0     0    09  Thursday   \n",
       "\n",
       "   hour  \n",
       "0    20  \n",
       "1    19  \n",
       "2    19  \n",
       "3    18  \n",
       "4    17  "
      ]
     },
     "execution_count": 41,
     "metadata": {},
     "output_type": "execute_result"
    }
   ],
   "source": [
    "df.head()"
   ]
  },
  {
   "cell_type": "code",
   "execution_count": 43,
   "metadata": {},
   "outputs": [],
   "source": [
    "hourDf = pd.get_dummies(df['hour'],prefix='hr_')\n",
    "df = pd.concat([df,hourDf],axis=1)\n",
    "monthDf = pd.get_dummies(df['month'],prefix='Mo')\n",
    "df = pd.concat([df,monthDf],axis=1)"
   ]
  },
  {
   "cell_type": "code",
   "execution_count": 44,
   "metadata": {},
   "outputs": [
    {
     "data": {
      "text/html": [
       "<div>\n",
       "<style scoped>\n",
       "    .dataframe tbody tr th:only-of-type {\n",
       "        vertical-align: middle;\n",
       "    }\n",
       "\n",
       "    .dataframe tbody tr th {\n",
       "        vertical-align: top;\n",
       "    }\n",
       "\n",
       "    .dataframe thead th {\n",
       "        text-align: right;\n",
       "    }\n",
       "</style>\n",
       "<table border=\"1\" class=\"dataframe\">\n",
       "  <thead>\n",
       "    <tr style=\"text-align: right;\">\n",
       "      <th></th>\n",
       "      <th>post_impressions_paid_unique</th>\n",
       "      <th>created_time</th>\n",
       "      <th>total_likes</th>\n",
       "      <th>post_video_views</th>\n",
       "      <th>post_fan_reach</th>\n",
       "      <th>caption</th>\n",
       "      <th>category</th>\n",
       "      <th>paid</th>\n",
       "      <th>month</th>\n",
       "      <th>weekday</th>\n",
       "      <th>...</th>\n",
       "      <th>Mo_03</th>\n",
       "      <th>Mo_04</th>\n",
       "      <th>Mo_05</th>\n",
       "      <th>Mo_06</th>\n",
       "      <th>Mo_07</th>\n",
       "      <th>Mo_08</th>\n",
       "      <th>Mo_09</th>\n",
       "      <th>Mo_10</th>\n",
       "      <th>Mo_11</th>\n",
       "      <th>Mo_12</th>\n",
       "    </tr>\n",
       "  </thead>\n",
       "  <tbody>\n",
       "    <tr>\n",
       "      <th>0</th>\n",
       "      <td>0</td>\n",
       "      <td>2015-09-17 20:50:00</td>\n",
       "      <td>6</td>\n",
       "      <td>0</td>\n",
       "      <td>3566</td>\n",
       "      <td>1</td>\n",
       "      <td>0</td>\n",
       "      <td>0</td>\n",
       "      <td>09</td>\n",
       "      <td>Thursday</td>\n",
       "      <td>...</td>\n",
       "      <td>0</td>\n",
       "      <td>0</td>\n",
       "      <td>0</td>\n",
       "      <td>0</td>\n",
       "      <td>0</td>\n",
       "      <td>0</td>\n",
       "      <td>1</td>\n",
       "      <td>0</td>\n",
       "      <td>0</td>\n",
       "      <td>0</td>\n",
       "    </tr>\n",
       "    <tr>\n",
       "      <th>1</th>\n",
       "      <td>0</td>\n",
       "      <td>2015-09-17 19:49:28</td>\n",
       "      <td>405</td>\n",
       "      <td>0</td>\n",
       "      <td>37757</td>\n",
       "      <td>1</td>\n",
       "      <td>0</td>\n",
       "      <td>0</td>\n",
       "      <td>09</td>\n",
       "      <td>Thursday</td>\n",
       "      <td>...</td>\n",
       "      <td>0</td>\n",
       "      <td>0</td>\n",
       "      <td>0</td>\n",
       "      <td>0</td>\n",
       "      <td>0</td>\n",
       "      <td>0</td>\n",
       "      <td>1</td>\n",
       "      <td>0</td>\n",
       "      <td>0</td>\n",
       "      <td>0</td>\n",
       "    </tr>\n",
       "    <tr>\n",
       "      <th>2</th>\n",
       "      <td>0</td>\n",
       "      <td>2015-09-17 19:18:00</td>\n",
       "      <td>22</td>\n",
       "      <td>0</td>\n",
       "      <td>6036</td>\n",
       "      <td>1</td>\n",
       "      <td>0</td>\n",
       "      <td>0</td>\n",
       "      <td>09</td>\n",
       "      <td>Thursday</td>\n",
       "      <td>...</td>\n",
       "      <td>0</td>\n",
       "      <td>0</td>\n",
       "      <td>0</td>\n",
       "      <td>0</td>\n",
       "      <td>0</td>\n",
       "      <td>0</td>\n",
       "      <td>1</td>\n",
       "      <td>0</td>\n",
       "      <td>0</td>\n",
       "      <td>0</td>\n",
       "    </tr>\n",
       "    <tr>\n",
       "      <th>3</th>\n",
       "      <td>0</td>\n",
       "      <td>2015-09-17 18:45:00</td>\n",
       "      <td>61</td>\n",
       "      <td>0</td>\n",
       "      <td>19474</td>\n",
       "      <td>1</td>\n",
       "      <td>0</td>\n",
       "      <td>0</td>\n",
       "      <td>09</td>\n",
       "      <td>Thursday</td>\n",
       "      <td>...</td>\n",
       "      <td>0</td>\n",
       "      <td>0</td>\n",
       "      <td>0</td>\n",
       "      <td>0</td>\n",
       "      <td>0</td>\n",
       "      <td>0</td>\n",
       "      <td>1</td>\n",
       "      <td>0</td>\n",
       "      <td>0</td>\n",
       "      <td>0</td>\n",
       "    </tr>\n",
       "    <tr>\n",
       "      <th>4</th>\n",
       "      <td>0</td>\n",
       "      <td>2015-09-17 17:58:09</td>\n",
       "      <td>50</td>\n",
       "      <td>0</td>\n",
       "      <td>20716</td>\n",
       "      <td>1</td>\n",
       "      <td>0</td>\n",
       "      <td>0</td>\n",
       "      <td>09</td>\n",
       "      <td>Thursday</td>\n",
       "      <td>...</td>\n",
       "      <td>0</td>\n",
       "      <td>0</td>\n",
       "      <td>0</td>\n",
       "      <td>0</td>\n",
       "      <td>0</td>\n",
       "      <td>0</td>\n",
       "      <td>1</td>\n",
       "      <td>0</td>\n",
       "      <td>0</td>\n",
       "      <td>0</td>\n",
       "    </tr>\n",
       "  </tbody>\n",
       "</table>\n",
       "<p>5 rows × 47 columns</p>\n",
       "</div>"
      ],
      "text/plain": [
       "   post_impressions_paid_unique        created_time  total_likes  \\\n",
       "0                             0 2015-09-17 20:50:00            6   \n",
       "1                             0 2015-09-17 19:49:28          405   \n",
       "2                             0 2015-09-17 19:18:00           22   \n",
       "3                             0 2015-09-17 18:45:00           61   \n",
       "4                             0 2015-09-17 17:58:09           50   \n",
       "\n",
       "   post_video_views  post_fan_reach  caption  category  paid month   weekday  \\\n",
       "0                 0            3566        1         0     0    09  Thursday   \n",
       "1                 0           37757        1         0     0    09  Thursday   \n",
       "2                 0            6036        1         0     0    09  Thursday   \n",
       "3                 0           19474        1         0     0    09  Thursday   \n",
       "4                 0           20716        1         0     0    09  Thursday   \n",
       "\n",
       "   ...    Mo_03  Mo_04  Mo_05  Mo_06  Mo_07  Mo_08  Mo_09  Mo_10  Mo_11  Mo_12  \n",
       "0  ...        0      0      0      0      0      0      1      0      0      0  \n",
       "1  ...        0      0      0      0      0      0      1      0      0      0  \n",
       "2  ...        0      0      0      0      0      0      1      0      0      0  \n",
       "3  ...        0      0      0      0      0      0      1      0      0      0  \n",
       "4  ...        0      0      0      0      0      0      1      0      0      0  \n",
       "\n",
       "[5 rows x 47 columns]"
      ]
     },
     "execution_count": 44,
     "metadata": {},
     "output_type": "execute_result"
    }
   ],
   "source": [
    "df.head()"
   ]
  },
  {
   "cell_type": "code",
   "execution_count": 45,
   "metadata": {},
   "outputs": [],
   "source": [
    "captionDf = pd.get_dummies(df['caption'],prefix='cap_')"
   ]
  },
  {
   "cell_type": "code",
   "execution_count": 47,
   "metadata": {},
   "outputs": [],
   "source": [
    "df = pd.concat([df,captionDf],axis = 1)"
   ]
  },
  {
   "cell_type": "code",
   "execution_count": 49,
   "metadata": {},
   "outputs": [],
   "source": [
    "df['cat_1'] = pd.get_dummies(df['category'])[1]\n",
    "df['cat_0'] = pd.get_dummies(df['category'])[0]"
   ]
  },
  {
   "cell_type": "code",
   "execution_count": 51,
   "metadata": {},
   "outputs": [
    {
     "data": {
      "text/plain": [
       "Index(['post_impressions_paid_unique', 'created_time', 'total_likes',\n",
       "       'post_video_views', 'post_fan_reach', 'caption', 'category', 'paid',\n",
       "       'month', 'weekday', 'hour', 'hr__0', 'hr__1', 'hr__2', 'hr__3', 'hr__4',\n",
       "       'hr__5', 'hr__6', 'hr__7', 'hr__8', 'hr__9', 'hr__10', 'hr__11',\n",
       "       'hr__12', 'hr__13', 'hr__14', 'hr__15', 'hr__16', 'hr__17', 'hr__18',\n",
       "       'hr__19', 'hr__20', 'hr__21', 'hr__22', 'hr__23', 'Mo_01', 'Mo_02',\n",
       "       'Mo_03', 'Mo_04', 'Mo_05', 'Mo_06', 'Mo_07', 'Mo_08', 'Mo_09', 'Mo_10',\n",
       "       'Mo_11', 'Mo_12', 'cap__0', 'cap__1', 'cap__2', 'cap__3', 'cat_1',\n",
       "       'cat_0'],\n",
       "      dtype='object')"
      ]
     },
     "execution_count": 51,
     "metadata": {},
     "output_type": "execute_result"
    }
   ],
   "source": [
    "df.columns\n"
   ]
  },
  {
   "cell_type": "code",
   "execution_count": 282,
   "metadata": {},
   "outputs": [
    {
     "data": {
      "text/html": [
       "<div>\n",
       "<style scoped>\n",
       "    .dataframe tbody tr th:only-of-type {\n",
       "        vertical-align: middle;\n",
       "    }\n",
       "\n",
       "    .dataframe tbody tr th {\n",
       "        vertical-align: top;\n",
       "    }\n",
       "\n",
       "    .dataframe thead th {\n",
       "        text-align: right;\n",
       "    }\n",
       "</style>\n",
       "<table border=\"1\" class=\"dataframe\">\n",
       "  <thead>\n",
       "    <tr style=\"text-align: right;\">\n",
       "      <th></th>\n",
       "      <th>hr__0</th>\n",
       "      <th>hr__1</th>\n",
       "      <th>hr__2</th>\n",
       "      <th>hr__3</th>\n",
       "      <th>hr__4</th>\n",
       "      <th>hr__5</th>\n",
       "      <th>hr__6</th>\n",
       "      <th>hr__7</th>\n",
       "      <th>hr__8</th>\n",
       "      <th>hr__9</th>\n",
       "      <th>...</th>\n",
       "      <th>Mo_11</th>\n",
       "      <th>Mo_12</th>\n",
       "      <th>cap__0</th>\n",
       "      <th>cap__1</th>\n",
       "      <th>cap__2</th>\n",
       "      <th>cap__3</th>\n",
       "      <th>cat_1</th>\n",
       "      <th>cat_0</th>\n",
       "      <th>post_video_views</th>\n",
       "      <th>post_fan_reach</th>\n",
       "    </tr>\n",
       "  </thead>\n",
       "  <tbody>\n",
       "    <tr>\n",
       "      <th>0</th>\n",
       "      <td>0</td>\n",
       "      <td>0</td>\n",
       "      <td>0</td>\n",
       "      <td>0</td>\n",
       "      <td>0</td>\n",
       "      <td>0</td>\n",
       "      <td>0</td>\n",
       "      <td>0</td>\n",
       "      <td>0</td>\n",
       "      <td>0</td>\n",
       "      <td>...</td>\n",
       "      <td>0</td>\n",
       "      <td>0</td>\n",
       "      <td>0</td>\n",
       "      <td>1</td>\n",
       "      <td>0</td>\n",
       "      <td>0</td>\n",
       "      <td>0</td>\n",
       "      <td>1</td>\n",
       "      <td>0</td>\n",
       "      <td>3566</td>\n",
       "    </tr>\n",
       "    <tr>\n",
       "      <th>1</th>\n",
       "      <td>0</td>\n",
       "      <td>0</td>\n",
       "      <td>0</td>\n",
       "      <td>0</td>\n",
       "      <td>0</td>\n",
       "      <td>0</td>\n",
       "      <td>0</td>\n",
       "      <td>0</td>\n",
       "      <td>0</td>\n",
       "      <td>0</td>\n",
       "      <td>...</td>\n",
       "      <td>0</td>\n",
       "      <td>0</td>\n",
       "      <td>0</td>\n",
       "      <td>1</td>\n",
       "      <td>0</td>\n",
       "      <td>0</td>\n",
       "      <td>0</td>\n",
       "      <td>1</td>\n",
       "      <td>0</td>\n",
       "      <td>37757</td>\n",
       "    </tr>\n",
       "    <tr>\n",
       "      <th>2</th>\n",
       "      <td>0</td>\n",
       "      <td>0</td>\n",
       "      <td>0</td>\n",
       "      <td>0</td>\n",
       "      <td>0</td>\n",
       "      <td>0</td>\n",
       "      <td>0</td>\n",
       "      <td>0</td>\n",
       "      <td>0</td>\n",
       "      <td>0</td>\n",
       "      <td>...</td>\n",
       "      <td>0</td>\n",
       "      <td>0</td>\n",
       "      <td>0</td>\n",
       "      <td>1</td>\n",
       "      <td>0</td>\n",
       "      <td>0</td>\n",
       "      <td>0</td>\n",
       "      <td>1</td>\n",
       "      <td>0</td>\n",
       "      <td>6036</td>\n",
       "    </tr>\n",
       "    <tr>\n",
       "      <th>3</th>\n",
       "      <td>0</td>\n",
       "      <td>0</td>\n",
       "      <td>0</td>\n",
       "      <td>0</td>\n",
       "      <td>0</td>\n",
       "      <td>0</td>\n",
       "      <td>0</td>\n",
       "      <td>0</td>\n",
       "      <td>0</td>\n",
       "      <td>0</td>\n",
       "      <td>...</td>\n",
       "      <td>0</td>\n",
       "      <td>0</td>\n",
       "      <td>0</td>\n",
       "      <td>1</td>\n",
       "      <td>0</td>\n",
       "      <td>0</td>\n",
       "      <td>0</td>\n",
       "      <td>1</td>\n",
       "      <td>0</td>\n",
       "      <td>19474</td>\n",
       "    </tr>\n",
       "    <tr>\n",
       "      <th>4</th>\n",
       "      <td>0</td>\n",
       "      <td>0</td>\n",
       "      <td>0</td>\n",
       "      <td>0</td>\n",
       "      <td>0</td>\n",
       "      <td>0</td>\n",
       "      <td>0</td>\n",
       "      <td>0</td>\n",
       "      <td>0</td>\n",
       "      <td>0</td>\n",
       "      <td>...</td>\n",
       "      <td>0</td>\n",
       "      <td>0</td>\n",
       "      <td>0</td>\n",
       "      <td>1</td>\n",
       "      <td>0</td>\n",
       "      <td>0</td>\n",
       "      <td>0</td>\n",
       "      <td>1</td>\n",
       "      <td>0</td>\n",
       "      <td>20716</td>\n",
       "    </tr>\n",
       "  </tbody>\n",
       "</table>\n",
       "<p>5 rows × 44 columns</p>\n",
       "</div>"
      ],
      "text/plain": [
       "   hr__0  hr__1  hr__2  hr__3  hr__4  hr__5  hr__6  hr__7  hr__8  hr__9  \\\n",
       "0      0      0      0      0      0      0      0      0      0      0   \n",
       "1      0      0      0      0      0      0      0      0      0      0   \n",
       "2      0      0      0      0      0      0      0      0      0      0   \n",
       "3      0      0      0      0      0      0      0      0      0      0   \n",
       "4      0      0      0      0      0      0      0      0      0      0   \n",
       "\n",
       "        ...        Mo_11  Mo_12  cap__0  cap__1  cap__2  cap__3  cat_1  cat_0  \\\n",
       "0       ...            0      0       0       1       0       0      0      1   \n",
       "1       ...            0      0       0       1       0       0      0      1   \n",
       "2       ...            0      0       0       1       0       0      0      1   \n",
       "3       ...            0      0       0       1       0       0      0      1   \n",
       "4       ...            0      0       0       1       0       0      0      1   \n",
       "\n",
       "   post_video_views  post_fan_reach  \n",
       "0                 0            3566  \n",
       "1                 0           37757  \n",
       "2                 0            6036  \n",
       "3                 0           19474  \n",
       "4                 0           20716  \n",
       "\n",
       "[5 rows x 44 columns]"
      ]
     },
     "execution_count": 282,
     "metadata": {},
     "output_type": "execute_result"
    }
   ],
   "source": [
    "x = df[['hr__0', 'hr__1', 'hr__2', 'hr__3', 'hr__4',\n",
    "       'hr__5', 'hr__6', 'hr__7', 'hr__8', 'hr__9', 'hr__10', 'hr__11',\n",
    "       'hr__12', 'hr__13', 'hr__14', 'hr__15', 'hr__16', 'hr__17', 'hr__18',\n",
    "       'hr__19', 'hr__20', 'hr__21', 'hr__22', 'hr__23', 'Mo_01', 'Mo_02',\n",
    "       'Mo_03', 'Mo_04', 'Mo_05', 'Mo_06', 'Mo_07', 'Mo_08', 'Mo_09', 'Mo_10',\n",
    "       'Mo_11', 'Mo_12', 'cap__0', 'cap__1', 'cap__2', 'cap__3', 'cat_1',\n",
    "       'cat_0','post_video_views','post_fan_reach']]\n",
    "\n",
    "y = df['total_likes']\n",
    "x.head()"
   ]
  },
  {
   "cell_type": "code",
   "execution_count": 287,
   "metadata": {},
   "outputs": [],
   "source": [
    "s = x['post_fan_reach']\n",
    "z = (s-s.mean())/s.std()\n",
    "x['post_fan_reach'] = z"
   ]
  },
  {
   "cell_type": "code",
   "execution_count": 288,
   "metadata": {},
   "outputs": [],
   "source": [
    "x_train,x_test,y_train, y_test = train_test_split(x,\n",
    "                                                  y, test_size=0.1,\n",
    "                                                  random_state=42)"
   ]
  },
  {
   "cell_type": "code",
   "execution_count": 289,
   "metadata": {},
   "outputs": [
    {
     "data": {
      "text/plain": [
       "474"
      ]
     },
     "execution_count": 289,
     "metadata": {},
     "output_type": "execute_result"
    }
   ],
   "source": [
    "len(y_test)"
   ]
  },
  {
   "cell_type": "code",
   "execution_count": 290,
   "metadata": {},
   "outputs": [
    {
     "data": {
      "text/html": [
       "<div>\n",
       "<style scoped>\n",
       "    .dataframe tbody tr th:only-of-type {\n",
       "        vertical-align: middle;\n",
       "    }\n",
       "\n",
       "    .dataframe tbody tr th {\n",
       "        vertical-align: top;\n",
       "    }\n",
       "\n",
       "    .dataframe thead th {\n",
       "        text-align: right;\n",
       "    }\n",
       "</style>\n",
       "<table border=\"1\" class=\"dataframe\">\n",
       "  <thead>\n",
       "    <tr style=\"text-align: right;\">\n",
       "      <th></th>\n",
       "      <th>hr__0</th>\n",
       "      <th>hr__1</th>\n",
       "      <th>hr__2</th>\n",
       "      <th>hr__3</th>\n",
       "      <th>hr__4</th>\n",
       "      <th>hr__5</th>\n",
       "      <th>hr__6</th>\n",
       "      <th>hr__7</th>\n",
       "      <th>hr__8</th>\n",
       "      <th>hr__9</th>\n",
       "      <th>...</th>\n",
       "      <th>Mo_11</th>\n",
       "      <th>Mo_12</th>\n",
       "      <th>cap__0</th>\n",
       "      <th>cap__1</th>\n",
       "      <th>cap__2</th>\n",
       "      <th>cap__3</th>\n",
       "      <th>cat_1</th>\n",
       "      <th>cat_0</th>\n",
       "      <th>post_video_views</th>\n",
       "      <th>post_fan_reach</th>\n",
       "    </tr>\n",
       "  </thead>\n",
       "  <tbody>\n",
       "    <tr>\n",
       "      <th>4233</th>\n",
       "      <td>0</td>\n",
       "      <td>0</td>\n",
       "      <td>0</td>\n",
       "      <td>0</td>\n",
       "      <td>0</td>\n",
       "      <td>0</td>\n",
       "      <td>0</td>\n",
       "      <td>0</td>\n",
       "      <td>0</td>\n",
       "      <td>1</td>\n",
       "      <td>...</td>\n",
       "      <td>0</td>\n",
       "      <td>1</td>\n",
       "      <td>0</td>\n",
       "      <td>1</td>\n",
       "      <td>0</td>\n",
       "      <td>0</td>\n",
       "      <td>1</td>\n",
       "      <td>0</td>\n",
       "      <td>0</td>\n",
       "      <td>0.175673</td>\n",
       "    </tr>\n",
       "    <tr>\n",
       "      <th>3143</th>\n",
       "      <td>0</td>\n",
       "      <td>0</td>\n",
       "      <td>0</td>\n",
       "      <td>0</td>\n",
       "      <td>0</td>\n",
       "      <td>0</td>\n",
       "      <td>0</td>\n",
       "      <td>0</td>\n",
       "      <td>0</td>\n",
       "      <td>0</td>\n",
       "      <td>...</td>\n",
       "      <td>0</td>\n",
       "      <td>0</td>\n",
       "      <td>0</td>\n",
       "      <td>1</td>\n",
       "      <td>0</td>\n",
       "      <td>0</td>\n",
       "      <td>0</td>\n",
       "      <td>1</td>\n",
       "      <td>0</td>\n",
       "      <td>-1.091907</td>\n",
       "    </tr>\n",
       "    <tr>\n",
       "      <th>2965</th>\n",
       "      <td>0</td>\n",
       "      <td>1</td>\n",
       "      <td>0</td>\n",
       "      <td>0</td>\n",
       "      <td>0</td>\n",
       "      <td>0</td>\n",
       "      <td>0</td>\n",
       "      <td>0</td>\n",
       "      <td>0</td>\n",
       "      <td>0</td>\n",
       "      <td>...</td>\n",
       "      <td>0</td>\n",
       "      <td>0</td>\n",
       "      <td>0</td>\n",
       "      <td>1</td>\n",
       "      <td>0</td>\n",
       "      <td>0</td>\n",
       "      <td>1</td>\n",
       "      <td>0</td>\n",
       "      <td>0</td>\n",
       "      <td>0.016206</td>\n",
       "    </tr>\n",
       "    <tr>\n",
       "      <th>163</th>\n",
       "      <td>0</td>\n",
       "      <td>0</td>\n",
       "      <td>0</td>\n",
       "      <td>0</td>\n",
       "      <td>0</td>\n",
       "      <td>1</td>\n",
       "      <td>0</td>\n",
       "      <td>0</td>\n",
       "      <td>0</td>\n",
       "      <td>0</td>\n",
       "      <td>...</td>\n",
       "      <td>0</td>\n",
       "      <td>0</td>\n",
       "      <td>0</td>\n",
       "      <td>1</td>\n",
       "      <td>0</td>\n",
       "      <td>0</td>\n",
       "      <td>0</td>\n",
       "      <td>1</td>\n",
       "      <td>0</td>\n",
       "      <td>0.957203</td>\n",
       "    </tr>\n",
       "    <tr>\n",
       "      <th>4110</th>\n",
       "      <td>0</td>\n",
       "      <td>0</td>\n",
       "      <td>0</td>\n",
       "      <td>0</td>\n",
       "      <td>0</td>\n",
       "      <td>0</td>\n",
       "      <td>0</td>\n",
       "      <td>0</td>\n",
       "      <td>0</td>\n",
       "      <td>0</td>\n",
       "      <td>...</td>\n",
       "      <td>0</td>\n",
       "      <td>1</td>\n",
       "      <td>0</td>\n",
       "      <td>1</td>\n",
       "      <td>0</td>\n",
       "      <td>0</td>\n",
       "      <td>1</td>\n",
       "      <td>0</td>\n",
       "      <td>0</td>\n",
       "      <td>-0.835275</td>\n",
       "    </tr>\n",
       "  </tbody>\n",
       "</table>\n",
       "<p>5 rows × 44 columns</p>\n",
       "</div>"
      ],
      "text/plain": [
       "      hr__0  hr__1  hr__2  hr__3  hr__4  hr__5  hr__6  hr__7  hr__8  hr__9  \\\n",
       "4233      0      0      0      0      0      0      0      0      0      1   \n",
       "3143      0      0      0      0      0      0      0      0      0      0   \n",
       "2965      0      1      0      0      0      0      0      0      0      0   \n",
       "163       0      0      0      0      0      1      0      0      0      0   \n",
       "4110      0      0      0      0      0      0      0      0      0      0   \n",
       "\n",
       "           ...        Mo_11  Mo_12  cap__0  cap__1  cap__2  cap__3  cat_1  \\\n",
       "4233       ...            0      1       0       1       0       0      1   \n",
       "3143       ...            0      0       0       1       0       0      0   \n",
       "2965       ...            0      0       0       1       0       0      1   \n",
       "163        ...            0      0       0       1       0       0      0   \n",
       "4110       ...            0      1       0       1       0       0      1   \n",
       "\n",
       "      cat_0  post_video_views  post_fan_reach  \n",
       "4233      0                 0        0.175673  \n",
       "3143      1                 0       -1.091907  \n",
       "2965      0                 0        0.016206  \n",
       "163       1                 0        0.957203  \n",
       "4110      0                 0       -0.835275  \n",
       "\n",
       "[5 rows x 44 columns]"
      ]
     },
     "execution_count": 290,
     "metadata": {},
     "output_type": "execute_result"
    }
   ],
   "source": [
    "x_train.head()"
   ]
  },
  {
   "cell_type": "markdown",
   "metadata": {},
   "source": [
    "    It's important to standardize the variables. Since the values of post_fan_reach in ten thousands.variables measured at different scales do not contribute equally to the analysis. For example, in boundary detection, a variable that ranges between 0 and 100 will outweigh a variable that ranges between 0 and 1. \n",
    "    Using these variables without standardization in effect gives the variable with the larger range a weight of 100 in the analysis. Transforming the data to comparable scales can prevent this problem. Typical data standardization procedures equalize the range and/or data variability. "
   ]
  },
  {
   "cell_type": "markdown",
   "metadata": {},
   "source": [
    "###### Linear regression "
   ]
  },
  {
   "cell_type": "code",
   "execution_count": 291,
   "metadata": {},
   "outputs": [
    {
     "data": {
      "text/plain": [
       "LinearRegression(copy_X=True, fit_intercept=True, n_jobs=1, normalize=True)"
      ]
     },
     "execution_count": 291,
     "metadata": {},
     "output_type": "execute_result"
    }
   ],
   "source": [
    "\n",
    "\n",
    "\n",
    "reg = linear_model.LinearRegression(normalize=True)\n",
    "reg.fit(x_train,y_train)\n"
   ]
  },
  {
   "cell_type": "code",
   "execution_count": 292,
   "metadata": {},
   "outputs": [
    {
     "data": {
      "text/plain": [
       "array([ 1.58756804e+14,  1.58756804e+14,  1.58756804e+14,  1.58756804e+14,\n",
       "        1.58756804e+14,  1.58756804e+14,  1.58756804e+14,  1.58756804e+14,\n",
       "        1.58756804e+14,  1.58756804e+14,  1.58756804e+14,  1.58756804e+14,\n",
       "        1.58756804e+14,  1.58756804e+14,  1.58756804e+14,  1.58756804e+14,\n",
       "        1.58756804e+14,  1.58756804e+14,  1.58756804e+14,  1.58756804e+14,\n",
       "        1.58756804e+14,  1.58756804e+14,  1.58756804e+14,  1.58756804e+14,\n",
       "       -8.01667737e+14, -8.01667737e+14, -8.01667737e+14, -8.01667737e+14,\n",
       "       -8.01667737e+14, -8.01667737e+14, -8.01667737e+14, -8.01667737e+14,\n",
       "       -8.01667737e+14, -8.01667737e+14, -8.01667737e+14, -8.01667737e+14,\n",
       "       -1.33901842e+16, -1.33901842e+16, -1.33901842e+16, -1.33901842e+16,\n",
       "       -1.44195293e+16, -1.44195293e+16, -8.10472043e-01,  1.21172683e+02])"
      ]
     },
     "execution_count": 292,
     "metadata": {},
     "output_type": "execute_result"
    }
   ],
   "source": [
    "reg.coef_"
   ]
  },
  {
   "cell_type": "code",
   "execution_count": 294,
   "metadata": {},
   "outputs": [
    {
     "data": {
      "text/plain": [
       "<matplotlib.collections.PathCollection at 0x178a6ad3fd0>"
      ]
     },
     "execution_count": 294,
     "metadata": {},
     "output_type": "execute_result"
    },
    {
     "data": {
      "image/png": "[encoded data removed]",
      "text/plain": [
       "<matplotlib.figure.Figure at 0x178aae13080>"
      ]
     },
     "metadata": {},
     "output_type": "display_data"
    }
   ],
   "source": [
    "pred = reg.predict(x_test)\n",
    "pred_train = reg.predict(x_train)\n",
    "\n",
    "LRerror = y_test - pred\n",
    "plt.scatter(y_test, LRerror)\n"
   ]
  },
  {
   "cell_type": "code",
   "execution_count": 295,
   "metadata": {},
   "outputs": [],
   "source": [
    "testScore = r2_score(y_pred=pred,y_true=y_test)\n",
    "trainScore = r2_score(y_pred=pred_train,y_true=y_train)"
   ]
  },
  {
   "cell_type": "code",
   "execution_count": 296,
   "metadata": {},
   "outputs": [
    {
     "data": {
      "text/html": [
       "<div>\n",
       "<style scoped>\n",
       "    .dataframe tbody tr th:only-of-type {\n",
       "        vertical-align: middle;\n",
       "    }\n",
       "\n",
       "    .dataframe tbody tr th {\n",
       "        vertical-align: top;\n",
       "    }\n",
       "\n",
       "    .dataframe thead th {\n",
       "        text-align: right;\n",
       "    }\n",
       "</style>\n",
       "<table border=\"1\" class=\"dataframe\">\n",
       "  <thead>\n",
       "    <tr style=\"text-align: right;\">\n",
       "      <th></th>\n",
       "      <th>Score</th>\n",
       "      <th>Step</th>\n",
       "    </tr>\n",
       "  </thead>\n",
       "  <tbody>\n",
       "    <tr>\n",
       "      <th>0</th>\n",
       "      <td>0.225035</td>\n",
       "      <td>train</td>\n",
       "    </tr>\n",
       "    <tr>\n",
       "      <th>1</th>\n",
       "      <td>0.187188</td>\n",
       "      <td>test</td>\n",
       "    </tr>\n",
       "  </tbody>\n",
       "</table>\n",
       "</div>"
      ],
      "text/plain": [
       "      Score   Step\n",
       "0  0.225035  train\n",
       "1  0.187188   test"
      ]
     },
     "execution_count": 296,
     "metadata": {},
     "output_type": "execute_result"
    }
   ],
   "source": [
    "lrResults = pd.DataFrame()\n",
    "lrResults['Score'] = [trainScore,testScore]\n",
    "lrResults['Step'] = ['train','test']\n",
    "\n",
    "lrResults"
   ]
  },
  {
   "cell_type": "markdown",
   "metadata": {},
   "source": [
    "linear regression has performed poorly. Let's try another modelling method"
   ]
  },
  {
   "cell_type": "markdown",
   "metadata": {},
   "source": [
    "###### Random Forest "
   ]
  },
  {
   "cell_type": "code",
   "execution_count": 69,
   "metadata": {},
   "outputs": [],
   "source": [
    "from sklearn.ensemble import RandomForestRegressor"
   ]
  },
  {
   "cell_type": "code",
   "execution_count": 128,
   "metadata": {},
   "outputs": [],
   "source": [
    "x_train,x_test,y_train, y_test = train_test_split(x,\n",
    "                                                  y, test_size=0.4,\n",
    "                                                  random_state=42)\n"
   ]
  },
  {
   "cell_type": "code",
   "execution_count": 297,
   "metadata": {},
   "outputs": [
    {
     "data": {
      "text/plain": [
       "RandomForestRegressor(bootstrap=True, criterion='mse', max_depth=None,\n",
       "           max_features='auto', max_leaf_nodes=None,\n",
       "           min_impurity_decrease=0.0, min_impurity_split=None,\n",
       "           min_samples_leaf=1, min_samples_split=2,\n",
       "           min_weight_fraction_leaf=0.0, n_estimators=500, n_jobs=1,\n",
       "           oob_score=True, random_state=0, verbose=0, warm_start=False)"
      ]
     },
     "execution_count": 297,
     "metadata": {},
     "output_type": "execute_result"
    }
   ],
   "source": [
    "\n",
    "rf = RandomForestRegressor(n_estimators=500, oob_score=True, random_state=0)\n",
    "rf.fit(x_train, y_train)\n",
    "#rf.fit(x_train,y_train)"
   ]
  },
  {
   "cell_type": "code",
   "execution_count": 298,
   "metadata": {},
   "outputs": [],
   "source": [
    "from sklearn.metrics import r2_score\n",
    "from scipy.stats import spearmanr, pearsonr\n",
    "predicted_train = rf.predict(x_train)\n",
    "predicted_test = rf.predict(x_test)\n",
    "test_score = r2_score(y_test, predicted_test)\n",
    "spearman = spearmanr(y_test, predicted_test)\n",
    "pearson = pearsonr(y_test, predicted_test)"
   ]
  },
  {
   "cell_type": "code",
   "execution_count": 299,
   "metadata": {},
   "outputs": [
    {
     "name": "stdout",
     "output_type": "stream",
     "text": [
      "0.42762080788342527\n",
      "0.34976956874963283\n"
     ]
    }
   ],
   "source": [
    "print(spearman[0])\n",
    "print(pearson[0])"
   ]
  },
  {
   "cell_type": "code",
   "execution_count": 300,
   "metadata": {},
   "outputs": [
    {
     "name": "stdout",
     "output_type": "stream",
     "text": [
      "0.9444131371399468\n",
      "0.9645774581229174\n"
     ]
    }
   ],
   "source": [
    "train_score = r2_score(y_train, predicted_train)\n",
    "spearmanTrain = spearmanr(y_train, predicted_train)\n",
    "pearsonTrain = pearsonr(y_train, predicted_train)\n",
    "print(spearmanTrain[0])\n",
    "print(pearsonTrain[0])"
   ]
  },
  {
   "cell_type": "code",
   "execution_count": 301,
   "metadata": {},
   "outputs": [
    {
     "data": {
      "text/html": [
       "<div>\n",
       "<style scoped>\n",
       "    .dataframe tbody tr th:only-of-type {\n",
       "        vertical-align: middle;\n",
       "    }\n",
       "\n",
       "    .dataframe tbody tr th {\n",
       "        vertical-align: top;\n",
       "    }\n",
       "\n",
       "    .dataframe thead th {\n",
       "        text-align: right;\n",
       "    }\n",
       "</style>\n",
       "<table border=\"1\" class=\"dataframe\">\n",
       "  <thead>\n",
       "    <tr style=\"text-align: right;\">\n",
       "      <th></th>\n",
       "      <th>Score</th>\n",
       "      <th>Step</th>\n",
       "    </tr>\n",
       "  </thead>\n",
       "  <tbody>\n",
       "    <tr>\n",
       "      <th>0</th>\n",
       "      <td>0.882</td>\n",
       "      <td>train</td>\n",
       "    </tr>\n",
       "    <tr>\n",
       "      <th>1</th>\n",
       "      <td>0.075</td>\n",
       "      <td>test</td>\n",
       "    </tr>\n",
       "  </tbody>\n",
       "</table>\n",
       "</div>"
      ],
      "text/plain": [
       "   Score   Step\n",
       "0  0.882  train\n",
       "1  0.075   test"
      ]
     },
     "execution_count": 301,
     "metadata": {},
     "output_type": "execute_result"
    }
   ],
   "source": [
    "RFperf = pd.DataFrame()\n",
    "RFperf['Score'] = [round(train_score,3),round(test_score,3)]\n",
    "RFperf['Step'] = ['train','test']\n",
    "RFperf"
   ]
  },
  {
   "cell_type": "markdown",
   "metadata": {},
   "source": [
    "###### Ridge Regression"
   ]
  },
  {
   "cell_type": "code",
   "execution_count": 134,
   "metadata": {},
   "outputs": [],
   "source": [
    "from sklearn.linear_model import Ridge"
   ]
  },
  {
   "cell_type": "code",
   "execution_count": 302,
   "metadata": {},
   "outputs": [
    {
     "name": "stdout",
     "output_type": "stream",
     "text": [
      "Root Mean Squared Error: 233.02159438364498\n",
      "Root Mean Squared Error: 242.27601705151463\n"
     ]
    }
   ],
   "source": [
    "from sklearn.pipeline import Pipeline\n",
    "from sklearn.linear_model import Ridge\n",
    "from sklearn.model_selection import GridSearchCV\n",
    "from sklearn.metrics import mean_squared_error\n",
    "\n",
    "# steps\n",
    "steps = [('scaler', StandardScaler()),\n",
    "         ('ridge', Ridge())]\n",
    "\n",
    "# Create the pipeline: pipeline\n",
    "pipeline = Pipeline(steps)\n",
    "\n",
    "# Specify the hyperparameter space\n",
    "parameters = {'ridge__alpha':np.logspace(-4, 0, 50)}\n",
    "\n",
    "# Create the GridSearchCV object: cv\n",
    "cv = GridSearchCV(pipeline, parameters, cv=3)\n",
    "\n",
    "# Fit to the training set\n",
    "cv.fit(x_train, y_train)\n",
    "\n",
    "#predict on train set\n",
    "y_pred_train=cv.predict(x_train)\n",
    "\n",
    "# Predict test set\n",
    "y_pred_test=cv.predict(x_test)\n",
    "\n",
    "# rmse on train set\n",
    "rmse = np.sqrt(mean_squared_error(y_train, y_pred_train))\n",
    "print(\"Root Mean Squared Error: {}\".format(rmse))\n",
    "ridge_error = np.sqrt(mean_squared_error(y_test, y_pred_test))\n",
    "print(\"Root Mean Squared Error: {}\".format(ridge_error))"
   ]
  },
  {
   "cell_type": "markdown",
   "metadata": {},
   "source": [
    "###### Neural Networks"
   ]
  },
  {
   "cell_type": "code",
   "execution_count": 311,
   "metadata": {},
   "outputs": [],
   "source": [
    "\n",
    "from keras.models import Sequential\n",
    "from keras.layers import Dense\n",
    "from keras.wrappers.scikit_learn import KerasRegressor\n",
    "from sklearn.model_selection import cross_val_score\n",
    "from sklearn.model_selection import KFold\n",
    "from sklearn.preprocessing import StandardScaler\n",
    "from sklearn.pipeline import Pipeline"
   ]
  },
  {
   "cell_type": "code",
   "execution_count": 332,
   "metadata": {},
   "outputs": [
    {
     "name": "stdout",
     "output_type": "stream",
     "text": [
      "44\n"
     ]
    }
   ],
   "source": [
    "input_dim = len(x.columns)\n",
    "print(input_dim)\n",
    "def baseline_model():\n",
    "    # create model\n",
    "    model = Sequential()\n",
    "    model.add(Dense(13, input_dim=input_dim, kernel_initializer='normal', activation='relu'))\n",
    "    model.add(Dense(6, kernel_initializer='normal', activation='relu'))\n",
    "    model.add(Dense(1, kernel_initializer='normal'))\n",
    "    # Compile model\n",
    "    model.compile(loss='mean_squared_error', optimizer='adam')\n",
    "    return model"
   ]
  },
  {
   "cell_type": "code",
   "execution_count": 333,
   "metadata": {},
   "outputs": [
    {
     "data": {
      "text/plain": [
       "<keras.callbacks.History at 0x178aaaa0cf8>"
      ]
     },
     "execution_count": 333,
     "metadata": {},
     "output_type": "execute_result"
    }
   ],
   "source": [
    "seed = 7\n",
    "np.random.seed(seed)\n",
    "# evaluate model with standardized dataset\n",
    "estimator = KerasRegressor(build_fn=baseline_model, epochs=100, batch_size=5, verbose=0)\n",
    "estimator.fit(x_train,y_train)"
   ]
  },
  {
   "cell_type": "code",
   "execution_count": 334,
   "metadata": {},
   "outputs": [],
   "source": [
    "\n",
    "kfold = KFold(n_splits=10, random_state=seed)\n",
    "results = cross_val_score(estimator, x_train, y_train, cv=kfold)\n",
    "\n"
   ]
  },
  {
   "cell_type": "code",
   "execution_count": 335,
   "metadata": {},
   "outputs": [
    {
     "data": {
      "text/plain": [
       "-55447.40873391464"
      ]
     },
     "execution_count": 335,
     "metadata": {},
     "output_type": "execute_result"
    }
   ],
   "source": [
    "results.mean()"
   ]
  },
  {
   "cell_type": "code",
   "execution_count": 336,
   "metadata": {},
   "outputs": [
    {
     "data": {
      "text/plain": [
       "4126.169616845166"
      ]
     },
     "execution_count": 336,
     "metadata": {},
     "output_type": "execute_result"
    }
   ],
   "source": [
    "results.std()"
   ]
  },
  {
   "cell_type": "code",
   "execution_count": 337,
   "metadata": {},
   "outputs": [],
   "source": [
    "prediction = estimator.predict(x_test)"
   ]
  },
  {
   "cell_type": "code",
   "execution_count": 338,
   "metadata": {},
   "outputs": [],
   "source": [
    "nn_score = r2_score(y_test,prediction)"
   ]
  },
  {
   "cell_type": "code",
   "execution_count": 339,
   "metadata": {},
   "outputs": [
    {
     "data": {
      "text/plain": [
       "0.1944996838231926"
      ]
     },
     "execution_count": 339,
     "metadata": {},
     "output_type": "execute_result"
    }
   ],
   "source": [
    "nn_score"
   ]
  },
  {
   "cell_type": "markdown",
   "metadata": {},
   "source": [
    "# What are publishers talking about"
   ]
  },
  {
   "cell_type": "markdown",
   "metadata": {},
   "source": [
    "## Topic Modelling"
   ]
  },
  {
   "cell_type": "code",
   "execution_count": 249,
   "metadata": {},
   "outputs": [],
   "source": [
    "from nltk.tokenize import RegexpTokenizer\n",
    "from stop_words import get_stop_words\n",
    "from nltk.stem.porter import PorterStemmer\n",
    "from gensim import corpora, models\n",
    "import gensim\n",
    "import nltk\n",
    "from html.parser import HTMLParser\n",
    "import string"
   ]
  },
  {
   "cell_type": "code",
   "execution_count": 250,
   "metadata": {},
   "outputs": [],
   "source": [
    "stopword_list = nltk.corpus.stopwords.words('english')\n",
    "wnl = WordNetLemmatizer()\n",
    "html_parser = HTMLParser()"
   ]
  },
  {
   "cell_type": "code",
   "execution_count": 251,
   "metadata": {},
   "outputs": [],
   "source": [
    "def remove_special_characters(text):\n",
    "    tokens = tokenize_text(text)\n",
    "    pattern = re.compile('[{}]'.format(re.escape(string.punctuation)))\n",
    "    filtered_tokens = filter(None, [pattern.sub(' ', token) for token in tokens])\n",
    "    filtered_text = ' '.join(filtered_tokens)\n",
    "    return filtered_text\n",
    "    \n",
    "    \n",
    "def remove_stopwords(text):\n",
    "    tokens = tokenize_text(text)\n",
    "    filtered_tokens = [token for token in tokens if token not in stopword_list]\n",
    "    filtered_text = ' '.join(filtered_tokens)    \n",
    "    return filtered_text\n",
    "\n",
    "def tokenize_text(text):\n",
    "    tokens = nltk.word_tokenize(text) \n",
    "    tokens = [token.strip() for token in tokens]\n",
    "    return tokens"
   ]
  },
  {
   "cell_type": "code",
   "execution_count": 252,
   "metadata": {},
   "outputs": [],
   "source": [
    "def normalize_corpus(corpus,tokenize=True):\n",
    "    \n",
    "    normalized_corpus = []  \n",
    "    for text in corpus:\n",
    "        text = html_parser.unescape(text)\n",
    "        #text = expand_contractions(text, CONTRACTION_MAP)\n",
    "        text = text.lower()\n",
    "        text = remove_special_characters(text)\n",
    "        text = remove_stopwords(text)\n",
    "        if tokenize:\n",
    "            text = tokenize_text(text)\n",
    "            normalized_corpus.append(text)\n",
    "        else:\n",
    "            normalized_corpus.append(text)\n",
    "            \n",
    "    return normalized_corpus"
   ]
  },
  {
   "cell_type": "code",
   "execution_count": 253,
   "metadata": {},
   "outputs": [],
   "source": [
    "corpus = [i for i in data_komo['Descript']]"
   ]
  },
  {
   "cell_type": "code",
   "execution_count": 254,
   "metadata": {},
   "outputs": [],
   "source": [
    "stopword_list = nltk.corpus.stopwords.words('english')"
   ]
  },
  {
   "cell_type": "code",
   "execution_count": 255,
   "metadata": {},
   "outputs": [],
   "source": [
    "# LSI topic model\n",
    "norm_tokenized_corpus = normalize_corpus(corpus, tokenize=True)\n",
    "#norm_tokenized_corpus\n"
   ]
  },
  {
   "cell_type": "code",
   "execution_count": 256,
   "metadata": {},
   "outputs": [],
   "source": [
    "dictionary = corpora.Dictionary(norm_tokenized_corpus)"
   ]
  },
  {
   "cell_type": "code",
   "execution_count": 257,
   "metadata": {},
   "outputs": [],
   "source": [
    "corpus = [dictionary.doc2bow(text) for text in norm_tokenized_corpus]"
   ]
  },
  {
   "cell_type": "code",
   "execution_count": 265,
   "metadata": {},
   "outputs": [],
   "source": [
    "tfidf = models.TfidfModel(corpus)\n",
    "corpus_tfidf = tfidf[corpus]"
   ]
  },
  {
   "cell_type": "code",
   "execution_count": 259,
   "metadata": {},
   "outputs": [],
   "source": [
    "total_topics = 20\n",
    "\n",
    "lsi = models.LsiModel(corpus_tfidf, \n",
    "                      id2word=dictionary, \n",
    "                      num_topics=total_topics)"
   ]
  },
  {
   "cell_type": "code",
   "execution_count": 266,
   "metadata": {},
   "outputs": [
    {
     "name": "stdout",
     "output_type": "stream",
     "text": [
      "Topic #1\n",
      "0.212*\"police\" + 0.186*\"man\" + 0.173*\"seattle\" + 0.143*\"year\" + 0.137*\"old\" + 0.131*\"car\" + 0.127*\"school\" + 0.120*\"woman\" + 0.103*\"fire\" + 0.102*\"say\"\n",
      "Topic #2\n",
      "0.240*\"adoptable\" + 0.221*\"humane\" + 0.219*\"cats\" + 0.208*\"10\" + 0.205*\"society\" + -0.185*\"police\" + 0.180*\"seahawks\" + 0.169*\"seattle\" + 0.151*\"photos\" + -0.145*\"man\"\n",
      "Topic #3\n",
      "-0.256*\"seahawks\" + 0.231*\"adoptable\" + 0.208*\"humane\" + 0.206*\"cats\" + 0.192*\"society\" + 0.174*\"10\" + 0.142*\"police\" + 0.141*\"old\" + 0.138*\"homeward\" + 0.138*\"furry\"\n",
      "Topic #4\n",
      "-0.594*\"school\" + 0.245*\"seahawks\" + -0.225*\"high\" + -0.146*\"students\" + -0.139*\"marysville\" + -0.139*\"state\" + 0.138*\"car\" + -0.130*\"teachers\" + 0.129*\"bowl\" + -0.127*\"student\"\n",
      "Topic #5\n",
      "-0.342*\"seahawks\" + -0.282*\"school\" + 0.261*\"fire\" + 0.190*\"state\" + -0.170*\"bowl\" + 0.167*\"washington\" + -0.162*\"super\" + -0.150*\"police\" + -0.124*\"wilson\" + -0.116*\"man\"\n",
      "Topic #6\n",
      "0.252*\"crash\" + 0.227*\"fire\" + 0.223*\"school\" + 0.185*\"car\" + 0.167*\"driver\" + 0.166*\"humane\" + 0.153*\"society\" + 0.150*\"cats\" + -0.139*\"pet\" + -0.138*\"man\"\n",
      "Topic #7\n",
      "-0.286*\"homeward\" + -0.275*\"pet\" + -0.262*\"woodinville\" + -0.258*\"adoption\" + 0.213*\"humane\" + 0.198*\"society\" + 0.197*\"cats\" + -0.165*\"crash\" + -0.152*\"seahawks\" + -0.149*\"pets\"\n",
      "Topic #8\n",
      "-0.317*\"fire\" + 0.288*\"state\" + 0.192*\"crash\" + 0.170*\"car\" + -0.169*\"photos\" + -0.148*\"school\" + 0.147*\"driver\" + 0.136*\"marijuana\" + 0.129*\"washington\" + -0.102*\"story\"\n",
      "Topic #9\n",
      "-0.445*\"fire\" + 0.206*\"photos\" + 0.194*\"car\" + 0.191*\"crash\" + 0.149*\"driver\" + -0.146*\"seahawks\" + 0.128*\"weather\" + 0.124*\"share\" + 0.120*\"»\" + 0.120*\"«\"\n",
      "Topic #10\n",
      "0.256*\"old\" + -0.235*\"police\" + 0.221*\"year\" + -0.215*\"shooting\" + -0.214*\"officer\" + 0.170*\"boy\" + 0.155*\"woman\" + 0.152*\"girl\" + -0.144*\"seattle\" + 0.143*\"county\"\n",
      "Topic #11\n",
      "0.272*\"photos\" + 0.169*\"state\" + 0.162*\"share\" + 0.160*\"»\" + 0.160*\"«\" + -0.138*\"chance\" + 0.134*\"washington\" + -0.129*\"chideo\" + -0.125*\"video\" + -0.123*\"win\"\n",
      "Topic #12\n",
      "-0.284*\"seattle\" + 0.164*\"givelove\" + 0.146*\"chideo\" + 0.142*\"chance\" + 0.141*\"http\" + 0.141*\"ly\" + 0.138*\"arquette\" + 0.132*\"bit\" + 0.125*\"shooting\" + 0.113*\"photos\"\n",
      "Topic #13\n",
      "-0.216*\"woman\" + -0.209*\"car\" + 0.170*\"ferguson\" + 0.161*\"shooting\" + 0.149*\"old\" + 0.148*\"year\" + 0.142*\"officer\" + -0.128*\"marijuana\" + -0.123*\"photos\" + 0.116*\"mariners\"\n",
      "Topic #14\n",
      "-0.350*\"dog\" + 0.201*\"fire\" + -0.155*\"shot\" + 0.155*\"seattle\" + 0.140*\"year\" + 0.136*\"old\" + 0.128*\"photos\" + 0.127*\"city\" + -0.115*\"shooting\" + 0.113*\"woman\"\n",
      "Topic #15\n",
      "-0.371*\"zoo\" + -0.255*\"park\" + -0.225*\"elephants\" + -0.192*\"woodland\" + -0.162*\"city\" + -0.152*\"county\" + -0.147*\"oklahoma\" + 0.140*\"police\" + 0.113*\"record\" + 0.112*\"ferguson\"\n",
      "Topic #16\n",
      "-0.264*\"man\" + 0.260*\"dog\" + 0.173*\"officer\" + -0.172*\"seattle\" + 0.165*\"ferguson\" + 0.155*\"wilson\" + 0.149*\"zoo\" + 0.135*\"car\" + -0.125*\"teachers\" + 0.125*\"fire\"\n",
      "Topic #17\n",
      "0.276*\"zoo\" + -0.221*\"dog\" + 0.192*\"weather\" + -0.162*\"mariners\" + 0.160*\"elephants\" + 0.159*\"car\" + -0.152*\"plane\" + 0.138*\"woodland\" + 0.129*\"bowl\" + 0.127*\"park\"\n",
      "Topic #18\n",
      "0.251*\"woman\" + 0.222*\"plane\" + -0.183*\"shooting\" + -0.182*\"mariners\" + -0.139*\"car\" + 0.123*\"missing\" + 0.116*\"teachers\" + -0.114*\"marijuana\" + -0.110*\"restaurant\" + 0.108*\"police\"\n",
      "Topic #19\n",
      "-0.230*\"mariners\" + 0.182*\"officer\" + 0.175*\"county\" + 0.148*\"bowl\" + 0.142*\"super\" + -0.139*\"state\" + 0.131*\"’\" + -0.130*\"suspect\" + -0.124*\"police\" + -0.123*\"game\"\n",
      "Topic #20\n",
      "0.266*\"mariners\" + 0.171*\"dog\" + -0.169*\"bowl\" + -0.168*\"girl\" + -0.162*\"super\" + -0.154*\"old\" + 0.141*\"man\" + -0.132*\"year\" + -0.127*\"missing\" + -0.127*\"boy\"\n"
     ]
    }
   ],
   "source": [
    "for index, topic in lsi.print_topics(total_topics):\n",
    "    print ('Topic #'+str(index+1))\n",
    "    print(topic)\n"
   ]
  },
  {
   "cell_type": "code",
   "execution_count": 271,
   "metadata": {},
   "outputs": [],
   "source": [
    " lda = models.LdaModel(corpus_tfidf, \n",
    "                          id2word=dictionary,\n",
    "                          iterations=1000,\n",
    "                          num_topics=total_topics)"
   ]
  },
  {
   "cell_type": "code",
   "execution_count": 273,
   "metadata": {},
   "outputs": [
    {
     "name": "stdout",
     "output_type": "stream",
     "text": [
      "Topic #1\n",
      "0.004*\"driver\" + 0.004*\"crash\" + 0.003*\"car\" + 0.003*\"people\" + 0.003*\"kirkland\" + 0.003*\"auction\" + 0.002*\"shoreline\" + 0.002*\"struck\" + 0.002*\"crashes\" + 0.002*\"gas\"\n",
      "Topic #2\n",
      "0.003*\"bus\" + 0.002*\"patrick\" + 0.002*\"sunset\" + 0.002*\"burien\" + 0.002*\"594\" + 0.002*\"theatre\" + 0.002*\"effective\" + 0.002*\"sunrise\" + 0.002*\"gardens\" + 0.002*\"whale\"\n",
      "Topic #3\n",
      "0.004*\"2014\" + 0.004*\"halloween\" + 0.003*\"costumes\" + 0.003*\"semi\" + 0.002*\"landslides\" + 0.002*\"demonstrators\" + 0.002*\"food\" + 0.002*\"stabbing\" + 0.002*\"celebration\" + 0.002*\"turkey\"\n",
      "Topic #4\n",
      "0.007*\"seahawks\" + 0.003*\"photos\" + 0.003*\"carroll\" + 0.003*\"game\" + 0.003*\"»\" + 0.003*\"«\" + 0.003*\"coach\" + 0.002*\"seattle\" + 0.002*\"share\" + 0.002*\"team\"\n",
      "Topic #5\n",
      "0.003*\"starbucks\" + 0.003*\"powell\" + 0.003*\"mph\" + 0.002*\"cafe\" + 0.002*\"chicago\" + 0.002*\"warmest\" + 0.002*\"secret\" + 0.002*\"ring\" + 0.002*\"fall\" + 0.002*\"boston\"\n",
      "Topic #6\n",
      "0.004*\"airport\" + 0.003*\"neighbor\" + 0.003*\"flu\" + 0.003*\"holiday\" + 0.003*\"seattle\" + 0.002*\"dog\" + 0.002*\"best\" + 0.002*\"election\" + 0.002*\"wind\" + 0.002*\"sea\"\n",
      "Topic #7\n",
      "0.006*\"school\" + 0.004*\"police\" + 0.003*\"woman\" + 0.003*\"year\" + 0.003*\"man\" + 0.003*\"old\" + 0.003*\"car\" + 0.003*\"county\" + 0.003*\"fire\" + 0.003*\"boy\"\n",
      "Topic #8\n",
      "0.002*\"robbers\" + 0.002*\"beer\" + 0.002*\"stabbed\" + 0.002*\"pregnant\" + 0.002*\"campus\" + 0.002*\"armed\" + 0.002*\"police\" + 0.002*\"recall\" + 0.002*\"florida\" + 0.002*\"park\"\n",
      "Topic #9\n",
      "0.004*\"grand\" + 0.003*\"snow\" + 0.003*\"jury\" + 0.002*\"warning\" + 0.002*\"marijuana\" + 0.002*\"fined\" + 0.002*\"recreational\" + 0.002*\"school\" + 0.002*\"halloween\" + 0.002*\"says\"\n",
      "Topic #10\n",
      "0.003*\"’\" + 0.002*\"microsoft\" + 0.002*\"capitol\" + 0.002*\"stores\" + 0.002*\"spots\" + 0.002*\"sammamish\" + 0.002*\"hill\" + 0.002*\"first\" + 0.002*\"new\" + 0.002*\"cold\"\n",
      "Topic #11\n",
      "0.003*\"background\" + 0.003*\"holiday\" + 0.003*\"photos\" + 0.002*\"viewers\" + 0.002*\"see\" + 0.002*\"komo\" + 0.002*\"share\" + 0.002*\"lights\" + 0.002*\"murder\" + 0.002*\"round\"\n",
      "Topic #12\n",
      "0.009*\"christmas\" + 0.003*\"korea\" + 0.003*\"lynnwood\" + 0.003*\"oso\" + 0.003*\"home\" + 0.003*\"sounders\" + 0.002*\"seattle\" + 0.002*\"north\" + 0.002*\"day\" + 0.002*\"wrong\"\n",
      "Topic #13\n",
      "0.008*\"ebola\" + 0.003*\"premiere\" + 0.003*\"cosby\" + 0.002*\"ly\" + 0.002*\"film\" + 0.002*\"york\" + 0.002*\"nov\" + 0.002*\"garden\" + 0.002*\"bill\" + 0.002*\"station\"\n",
      "Topic #14\n",
      "0.005*\"ferguson\" + 0.003*\"state\" + 0.003*\"darren\" + 0.003*\"protest\" + 0.002*\"police\" + 0.002*\"officer\" + 0.002*\"app\" + 0.002*\"thank\" + 0.002*\"changes\" + 0.002*\"18\"\n",
      "Topic #15\n",
      "0.004*\"flooding\" + 0.002*\"cardinals\" + 0.002*\"wilson\" + 0.002*\"weather\" + 0.002*\"’\" + 0.002*\"bang\" + 0.002*\"attended\" + 0.002*\"request\" + 0.002*\"campus\" + 0.002*\"blog\"\n",
      "Topic #16\n",
      "0.003*\"gifts\" + 0.003*\"police\" + 0.002*\"playoff\" + 0.002*\"man\" + 0.002*\"shot\" + 0.002*\"gift\" + 0.002*\"seattle\" + 0.002*\"truck\" + 0.002*\"wallet\" + 0.002*\"gun\"\n",
      "Topic #17\n",
      "0.004*\"openings\" + 0.003*\"closings\" + 0.003*\"music\" + 0.003*\"week\" + 0.002*\"school\" + 0.002*\"cameras\" + 0.002*\"restaurant\" + 0.002*\"shut\" + 0.002*\"seattle\" + 0.002*\"virus\"\n",
      "Topic #18\n",
      "0.004*\"police\" + 0.004*\"marijuana\" + 0.004*\"cats\" + 0.003*\"pot\" + 0.003*\"brown\" + 0.003*\"humane\" + 0.003*\"society\" + 0.003*\"10\" + 0.003*\"adoptable\" + 0.003*\"ly\"\n",
      "Topic #19\n",
      "0.004*\"holidays\" + 0.003*\"issaquah\" + 0.003*\"win\" + 0.003*\"retail\" + 0.003*\"toy\" + 0.002*\"homeless\" + 0.002*\"project\" + 0.002*\"mercer\" + 0.002*\"votes\" + 0.002*\"student\"\n",
      "Topic #20\n",
      "0.005*\"marysville\" + 0.005*\"seahawks\" + 0.004*\"health\" + 0.003*\"bowl\" + 0.003*\"pilchuck\" + 0.003*\"lynch\" + 0.003*\"school\" + 0.003*\"high\" + 0.003*\"ban\" + 0.003*\"sony\"\n"
     ]
    }
   ],
   "source": [
    "for index, topic in lda.print_topics(total_topics):\n",
    "    print ('Topic #'+str(index+1))\n",
    "    print(topic)"
   ]
  },
  {
   "cell_type": "markdown",
   "metadata": {},
   "source": [
    "    The LDA Model is essentially a classifier, which classifies the posts to different classes. Then, it gives about ten words as the name of each class. These ten words would be the topics of the posts in this class.\n",
    "\n",
    "    Some parameters require tuning in this model. One of the most important parameter is the number of topics. We tuned this parameter to 20 topics based on the final result since the posts with the same topic have similar content.\n",
    "    The LDA model would classify each post to one of the topics."
   ]
  },
  {
   "cell_type": "markdown",
   "metadata": {},
   "source": [
    "    Auto generated topics from the topic modeling might not be representative. \n",
    "    The topic model is forced to classify the posts as the number of topics we specified, rather than to classify the posts based on their similarity. \n"
   ]
  },
  {
   "cell_type": "markdown",
   "metadata": {},
   "source": [
    "## Text Clustering"
   ]
  },
  {
   "cell_type": "code",
   "execution_count": 234,
   "metadata": {},
   "outputs": [],
   "source": [
    "def prelimClean(s):\n",
    "        try:\n",
    "            return \" \".join(re.findall(r'\\w+', s,flags = re.UNICODE | re.LOCALE)).lower()\n",
    "        except:\n",
    "            return \" \".join(re.findall(r'\\w+', \"no_text\",flags = re.UNICODE | re.LOCALE)).lower()"
   ]
  },
  {
   "cell_type": "code",
   "execution_count": 235,
   "metadata": {},
   "outputs": [],
   "source": [
    "# some more cleaning\n",
    "p = re.compile('[.,/:+()<>|!-@#$%^;&_=?*]|(\\\\\\)')\n",
    "\n",
    "eng_stop = stopwords.words(\"english\")"
   ]
  },
  {
   "cell_type": "code",
   "execution_count": 236,
   "metadata": {},
   "outputs": [],
   "source": [
    "def removeStopwords(x):   \n",
    "    tmp = [w for w in x if w.lower() not in eng_stop]\n",
    "    return tmp\n",
    "\n",
    "def stemIt(word_list, stemmer= PorterStemmer(), encoding= \"utf8\"):\n",
    "    tmp = []\n",
    "    for w in word_list:\n",
    "        tmp.append(stemmer.stem(w).encode(encoding))\n",
    "    return tmp\n",
    "\n",
    "\n",
    "def cleanText(x):\n",
    "    x = re.sub('((www\\.[^\\s]+)|(https?://[^\\s]+))','URL',x)\n",
    "    x = re.sub('[\\s]+', ' ', x) #remove unnecessary spaces\n",
    "    x = p.sub(\" \", x)\n",
    "    return x\n",
    "\n",
    "\n",
    "def wrapItUp(x, stemming= True):\n",
    "    if stemming:\n",
    "        x = b\" \".join(stemIt(removeStopwords(word_tokenize(cleanText(x)))))\n",
    "    else:\n",
    "        x = b\" \".join(removeStopwords(word_tokenize(cleanText(x))))\n",
    "    return x.decode('utf-8')\n"
   ]
  },
  {
   "cell_type": "code",
   "execution_count": 237,
   "metadata": {},
   "outputs": [],
   "source": [
    "data_komo[\"cleaned_notes\"] = [wrapItUp(t, stemming= True) for t in data_komo['Descript']]"
   ]
  },
  {
   "cell_type": "code",
   "execution_count": 238,
   "metadata": {},
   "outputs": [
    {
     "name": "stdout",
     "output_type": "stream",
     "text": [
      "Completed TFIDF matrix\n"
     ]
    }
   ],
   "source": [
    "vectorizer=TfidfVectorizer(min_df=0.005, decode_error='ignore',norm='l2')#,max_features = 100)\n",
    "vectorizer.fit(data_komo[\"cleaned_notes\"])\n",
    "vectorized = vectorizer.transform(data_komo[\"cleaned_notes\"])\n",
    "print(\"Completed TFIDF matrix\")"
   ]
  },
  {
   "cell_type": "code",
   "execution_count": 16,
   "metadata": {},
   "outputs": [],
   "source": [
    "def top_tfidf_feats(row, features, top_n=5):\n",
    "    ''' Get top n tfidf values in row and return them with their corresponding feature names.'''\n",
    "    topn_ids = np.argsort(row)[::-1][:top_n]\n",
    "    top_feats = [features[i] for i in topn_ids]\n",
    "    return top_feats\n",
    "    \n",
    "def top_mean_feats(Xtr, features, grp_ids=None, min_tfidf=0.1, top_n=5):\n",
    "    ''' Return the top n features that on average are most important amongst documents in rows\n",
    "        indentified by indices in grp_ids. '''\n",
    "    if grp_ids:\n",
    "        D = Xtr[grp_ids]#.toarray()\n",
    "    else:\n",
    "        D = Xtr#.toarray()\n",
    "    tfidf_means = np.asarray(D.mean(axis=0))[0]\n",
    "    return top_tfidf_feats(tfidf_means, features, top_n)\n",
    "\n",
    "def top_feats_by_class(Xtr, y, features, min_tfidf=0.1, top_n=5):\n",
    "    ''' Return a list of dfs, where each df holds top_n features and their mean tfidf value\n",
    "        calculated across documents with the same class label. '''\n",
    "    dfs = []\n",
    "    labels = []\n",
    "    Count = []\n",
    "\n",
    "    LabelDict = dict(Counter(y))\n",
    "    sort = sorted(LabelDict.items(), key=operator.itemgetter(0))\n",
    "    for label,count in sort:\n",
    "        ids = np.where(y==label)\n",
    "        feats_df = top_mean_feats(Xtr, features, ids, min_tfidf=min_tfidf, top_n=top_n)\n",
    "        Count.append(count)\n",
    "        labels.append(label)\n",
    "        dfs.append(' '.join(feats_df))\n",
    "        \n",
    "    df = pd.DataFrame({'ClusterVolume':Count, 'Words':dfs},index= labels)\n",
    "    return df\n"
   ]
  },
  {
   "cell_type": "code",
   "execution_count": 17,
   "metadata": {},
   "outputs": [
    {
     "name": "stdout",
     "output_type": "stream",
     "text": [
      "Completed TFIDF matrix\n"
     ]
    }
   ],
   "source": [
    "vectorizer=TfidfVectorizer(min_df=0.005, decode_error='ignore',norm='l2')#,max_features = 100)\n",
    "vectorizer.fit(data_komo[\"cleaned_notes\"])\n",
    "vectorized = vectorizer.transform(data_komo[\"cleaned_notes\"])\n",
    "print(\"Completed TFIDF matrix\")"
   ]
  },
  {
   "cell_type": "code",
   "execution_count": 18,
   "metadata": {},
   "outputs": [],
   "source": [
    "features = vectorizer.get_feature_names()"
   ]
  },
  {
   "cell_type": "code",
   "execution_count": 21,
   "metadata": {},
   "outputs": [
    {
     "data": {
      "text/plain": [
       "['abl', 'abus', 'accid', 'accord', 'account']"
      ]
     },
     "execution_count": 21,
     "metadata": {},
     "output_type": "execute_result"
    }
   ],
   "source": [
    "features[0:5]\n"
   ]
  },
  {
   "cell_type": "markdown",
   "metadata": {},
   "source": [
    "######    when using K-Means clustering, we need to determine whether we are using the right number of clusters. \n",
    "    One method to evaluate the number of clusters is the elbow method."
   ]
  },
  {
   "cell_type": "code",
   "execution_count": 22,
   "metadata": {},
   "outputs": [],
   "source": [
    "Ks = range(1, 10)\n",
    "km = [KMeans(n_clusters=i) for i in Ks]\n",
    "score = [km[i].fit(vectorized).score(vectorized) for i in range(len(km))]"
   ]
  },
  {
   "cell_type": "code",
   "execution_count": 26,
   "metadata": {},
   "outputs": [],
   "source": [
    "distortions = []\n",
    "K = range(5,25)\n",
    "for k in K:\n",
    "    kmeanModel = KMeans(n_clusters=k, init='k-means++',n_init=10,random_state=130)\n",
    "    kmeanModel.fit(vectorized)\n",
    "    distortions.append(kmeanModel.inertia_)\n"
   ]
  },
  {
   "cell_type": "code",
   "execution_count": 27,
   "metadata": {},
   "outputs": [
    {
     "data": {
      "text/plain": [
       "Text(0.5,1,'Elbow curve')"
      ]
     },
     "execution_count": 27,
     "metadata": {},
     "output_type": "execute_result"
    },
    {
     "data": {
      "image/png": "[encoded data removed]",
      "text/plain": [
       "<matplotlib.figure.Figure at 0x2031a1da0b8>"
      ]
     },
     "metadata": {},
     "output_type": "display_data"
    }
   ],
   "source": [
    "fig = plt.figure(figsize=(15, 5))\n",
    "plt.plot(range(5, 25), distortions)\n",
    "plt.grid(True)\n",
    "plt.title('Elbow curve')"
   ]
  },
  {
   "cell_type": "markdown",
   "metadata": {},
   "source": [
    "    We are unable to find optimal number of clusters. This might be due to low volume of the data."
   ]
  },
  {
   "cell_type": "markdown",
   "metadata": {},
   "source": [
    "## Future work"
   ]
  },
  {
   "cell_type": "markdown",
   "metadata": {},
   "source": [
    "    We can gather more data by parsing the link posts to identify the topics.\n",
    "    After identifying the topics, we can analyze which topics are performing well. "
   ]
  },
  {
   "cell_type": "code",
   "execution_count": null,
   "metadata": {},
   "outputs": [],
   "source": []
  }
 ],
 "metadata": {
  "kernelspec": {
   "display_name": "Python 3",
   "language": "python",
   "name": "python3"
  },
  "language_info": {
   "codemirror_mode": {
    "name": "ipython",
    "version": 3
   },
   "file_extension": ".py",
   "mimetype": "text/x-python",
   "name": "python",
   "nbconvert_exporter": "python",
   "pygments_lexer": "ipython3",
   "version": "3.5.2"
  }
 },
 "nbformat": 4,
 "nbformat_minor": 2
}
